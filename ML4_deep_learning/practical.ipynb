{
 "cells": [
  {
   "cell_type": "markdown",
   "metadata": {
    "pycharm": {
     "name": "#%% md\n"
    }
   },
   "source": [
    "# Practical Session 4 - Deep Learning with PyTorch\n",
    "In this session we will start with our toy task again.\n",
    "Remember how we solved it with an MLP in the first class ?\n",
    "We used scikit-learn, a one liner but without control over what was happening.\n",
    "\n",
    "We will start by implementing the model in Pytorch, in a basic way.\n",
    "\n",
    "Then we will work our way to making our code looks like a real Pytorch code."
   ]
  },
  {
   "cell_type": "code",
   "execution_count": 13,
   "metadata": {
    "pycharm": {
     "name": "#%%\n"
    }
   },
   "outputs": [],
   "source": [
    "import numpy as np\n",
    "import matplotlib.pyplot as plt\n",
    "import torch\n",
    "import time\n",
    "\n",
    "np.random.seed(20)\n",
    "\n",
    "\n",
    "def base_function():\n",
    "    f = lambda x: 1.3 * x ** 3 - 3 * x ** 2 + 3.6 * x + 6.9\n",
    "    return f"
   ]
  },
  {
   "cell_type": "code",
   "execution_count": 14,
   "metadata": {
    "pycharm": {
     "name": "#%%\n"
    }
   },
   "outputs": [
    {
     "data": {
      "text/plain": "<Figure size 432x288 with 1 Axes>",
      "image/png": "[encoded data removed]"
     },
     "metadata": {
      "needs_background": "light"
     },
     "output_type": "display_data"
    }
   ],
   "source": [
    "\n",
    "low, high = -1, 3\n",
    "n_points = 80\n",
    "\n",
    "# Get the values\n",
    "bfunc = base_function()\n",
    "xs = np.random.uniform(low, high, n_points)\n",
    "ys_noise = np.random.normal(size=len(xs))\n",
    "sample_ys = bfunc(xs)\n",
    "noisy_sample_ys = sample_ys + ys_noise\n",
    "\n",
    "# Plot the hidden function\n",
    "lsp = np.linspace(low, high)\n",
    "true_ys = bfunc(lsp)\n",
    "plt.plot(lsp, true_ys, linestyle='dashed')\n",
    "\n",
    "# Plot the samples\n",
    "plt.scatter(xs, noisy_sample_ys)\n",
    "plt.xlabel('x')\n",
    "plt.ylabel('y')\n",
    "plt.show()"
   ]
  },
  {
   "cell_type": "markdown",
   "metadata": {
    "pycharm": {
     "name": "#%% md\n"
    }
   },
   "source": [
    "We used the following command to fit the regressor last time :\n",
    "\"from sklearn.neural_network import MLPRegressor\n",
    " mlp_model = MLPRegressor(max_iter=5000)\"\n",
    "\n",
    "By default, the MLP Regressor makes the following computational graph :\n",
    "- input gets multiplied by 100 parameters, and an additional parameter is added to each values, giving 100 outputs y\n",
    "- ReLU is applied to each of these outputs\n",
    "- Then all outputs are multiplied by a parameter (again 100 parameters) and all these values are summed and added to the result\n",
    "\n",
    "To make the two big multiplications, we will use one torch tensor of 100 parameters for each multiplication."
   ]
  },
  {
   "cell_type": "code",
   "execution_count": 15,
   "metadata": {},
   "outputs": [],
   "source": [
    "# First create the parameters with small random initial values.\n",
    "# We need to mention that we want to compute a gradient\n",
    "# I provide you with the example for the first one, fill the others :\n",
    "w1 = torch.normal(mean=0., std=0.1, size=(100, 1), requires_grad=True)\n",
    "b1 = 0\n",
    "w2 = 0\n",
    "b2 = 0"
   ]
  },
  {
   "cell_type": "code",
   "execution_count": 16,
   "metadata": {},
   "outputs": [
    {
     "data": {
      "text/plain": "torch.Size([])"
     },
     "execution_count": 16,
     "metadata": {},
     "output_type": "execute_result"
    }
   ],
   "source": [
    "# Then define the function, using torch.nn.functional.relu(x)\n",
    "def f(x, weight1=w1, bias1=b1, weight2=w2, bias2=b2):\n",
    "    out = torch.tensor(0)\n",
    "    return out\n",
    "\n",
    "\n",
    "# Just to be sure everything runs, we make an inference on one input\n",
    "sample_input = torch.ones(size=(1,))\n",
    "f(sample_input).shape"
   ]
  },
  {
   "cell_type": "markdown",
   "source": [
    "Now we will mostly use last class optimization procedure to train our network using Pytorch\n",
    "Fill out the learning loop, inspired by last time's class.\n",
    "Then plot the resulting model"
   ],
   "metadata": {
    "collapsed": false,
    "pycharm": {
     "name": "#%% md\n"
    }
   }
  },
  {
   "cell_type": "code",
   "execution_count": 17,
   "outputs": [
    {
     "data": {
      "text/plain": "torch.Size([])"
     },
     "execution_count": 17,
     "metadata": {},
     "output_type": "execute_result"
    }
   ],
   "source": [
    "# Also set up the data\n",
    "# Check that when doing inference on the data, we get an output tensor of size 80\n",
    "# Call us if it is not the case, there is something ~ subtle and not interesting\n",
    "torch_xs = torch.from_numpy(xs)[None, :]\n",
    "torch_ys = torch.from_numpy(noisy_sample_ys)\n",
    "f(torch_xs).shape"
   ],
   "metadata": {
    "collapsed": false,
    "pycharm": {
     "name": "#%%\n"
    }
   }
  },
  {
   "cell_type": "code",
   "execution_count": 18,
   "metadata": {},
   "outputs": [
    {
     "ename": "TypeError",
     "evalue": "optimizer can only optimize Tensors, but one of the params is int",
     "output_type": "error",
     "traceback": [
      "\u001B[0;31m---------------------------------------------------------------------------\u001B[0m",
      "\u001B[0;31mTypeError\u001B[0m                                 Traceback (most recent call last)",
      "\u001B[0;32m/tmp/ipykernel_6420/2694019991.py\u001B[0m in \u001B[0;36m<module>\u001B[0;34m\u001B[0m\n\u001B[1;32m      1\u001B[0m \u001B[0;31m# Now like last time, let us define an optimizer and give the parameters to it.\u001B[0m\u001B[0;34m\u001B[0m\u001B[0;34m\u001B[0m\u001B[0;34m\u001B[0m\u001B[0m\n\u001B[1;32m      2\u001B[0m \u001B[0mn_iter\u001B[0m \u001B[0;34m=\u001B[0m \u001B[0;36m100\u001B[0m\u001B[0;34m\u001B[0m\u001B[0;34m\u001B[0m\u001B[0m\n\u001B[0;32m----> 3\u001B[0;31m \u001B[0mopt\u001B[0m \u001B[0;34m=\u001B[0m \u001B[0mtorch\u001B[0m\u001B[0;34m.\u001B[0m\u001B[0moptim\u001B[0m\u001B[0;34m.\u001B[0m\u001B[0mAdam\u001B[0m\u001B[0;34m(\u001B[0m\u001B[0;34m[\u001B[0m\u001B[0mw1\u001B[0m\u001B[0;34m,\u001B[0m \u001B[0mb1\u001B[0m\u001B[0;34m,\u001B[0m \u001B[0mw2\u001B[0m\u001B[0;34m,\u001B[0m \u001B[0mb2\u001B[0m\u001B[0;34m]\u001B[0m\u001B[0;34m,\u001B[0m \u001B[0mlr\u001B[0m\u001B[0;34m=\u001B[0m\u001B[0;36m0.01\u001B[0m\u001B[0;34m)\u001B[0m\u001B[0;34m\u001B[0m\u001B[0;34m\u001B[0m\u001B[0m\n\u001B[0m",
      "\u001B[0;32m~/anaconda3/envs/dpp/lib/python3.8/site-packages/torch/optim/adam.py\u001B[0m in \u001B[0;36m__init__\u001B[0;34m(self, params, lr, betas, eps, weight_decay, amsgrad)\u001B[0m\n\u001B[1;32m     42\u001B[0m         defaults = dict(lr=lr, betas=betas, eps=eps,\n\u001B[1;32m     43\u001B[0m                         weight_decay=weight_decay, amsgrad=amsgrad)\n\u001B[0;32m---> 44\u001B[0;31m         \u001B[0msuper\u001B[0m\u001B[0;34m(\u001B[0m\u001B[0mAdam\u001B[0m\u001B[0;34m,\u001B[0m \u001B[0mself\u001B[0m\u001B[0;34m)\u001B[0m\u001B[0;34m.\u001B[0m\u001B[0m__init__\u001B[0m\u001B[0;34m(\u001B[0m\u001B[0mparams\u001B[0m\u001B[0;34m,\u001B[0m \u001B[0mdefaults\u001B[0m\u001B[0;34m)\u001B[0m\u001B[0;34m\u001B[0m\u001B[0;34m\u001B[0m\u001B[0m\n\u001B[0m\u001B[1;32m     45\u001B[0m \u001B[0;34m\u001B[0m\u001B[0m\n\u001B[1;32m     46\u001B[0m     \u001B[0;32mdef\u001B[0m \u001B[0m__setstate__\u001B[0m\u001B[0;34m(\u001B[0m\u001B[0mself\u001B[0m\u001B[0;34m,\u001B[0m \u001B[0mstate\u001B[0m\u001B[0;34m)\u001B[0m\u001B[0;34m:\u001B[0m\u001B[0;34m\u001B[0m\u001B[0;34m\u001B[0m\u001B[0m\n",
      "\u001B[0;32m~/anaconda3/envs/dpp/lib/python3.8/site-packages/torch/optim/optimizer.py\u001B[0m in \u001B[0;36m__init__\u001B[0;34m(self, params, defaults)\u001B[0m\n\u001B[1;32m     49\u001B[0m \u001B[0;34m\u001B[0m\u001B[0m\n\u001B[1;32m     50\u001B[0m         \u001B[0;32mfor\u001B[0m \u001B[0mparam_group\u001B[0m \u001B[0;32min\u001B[0m \u001B[0mparam_groups\u001B[0m\u001B[0;34m:\u001B[0m\u001B[0;34m\u001B[0m\u001B[0;34m\u001B[0m\u001B[0m\n\u001B[0;32m---> 51\u001B[0;31m             \u001B[0mself\u001B[0m\u001B[0;34m.\u001B[0m\u001B[0madd_param_group\u001B[0m\u001B[0;34m(\u001B[0m\u001B[0mparam_group\u001B[0m\u001B[0;34m)\u001B[0m\u001B[0;34m\u001B[0m\u001B[0;34m\u001B[0m\u001B[0m\n\u001B[0m\u001B[1;32m     52\u001B[0m \u001B[0;34m\u001B[0m\u001B[0m\n\u001B[1;32m     53\u001B[0m     \u001B[0;32mdef\u001B[0m \u001B[0m__getstate__\u001B[0m\u001B[0;34m(\u001B[0m\u001B[0mself\u001B[0m\u001B[0;34m)\u001B[0m\u001B[0;34m:\u001B[0m\u001B[0;34m\u001B[0m\u001B[0;34m\u001B[0m\u001B[0m\n",
      "\u001B[0;32m~/anaconda3/envs/dpp/lib/python3.8/site-packages/torch/optim/optimizer.py\u001B[0m in \u001B[0;36madd_param_group\u001B[0;34m(self, param_group)\u001B[0m\n\u001B[1;32m    208\u001B[0m         \u001B[0;32mfor\u001B[0m \u001B[0mparam\u001B[0m \u001B[0;32min\u001B[0m \u001B[0mparam_group\u001B[0m\u001B[0;34m[\u001B[0m\u001B[0;34m'params'\u001B[0m\u001B[0;34m]\u001B[0m\u001B[0;34m:\u001B[0m\u001B[0;34m\u001B[0m\u001B[0;34m\u001B[0m\u001B[0m\n\u001B[1;32m    209\u001B[0m             \u001B[0;32mif\u001B[0m \u001B[0;32mnot\u001B[0m \u001B[0misinstance\u001B[0m\u001B[0;34m(\u001B[0m\u001B[0mparam\u001B[0m\u001B[0;34m,\u001B[0m \u001B[0mtorch\u001B[0m\u001B[0;34m.\u001B[0m\u001B[0mTensor\u001B[0m\u001B[0;34m)\u001B[0m\u001B[0;34m:\u001B[0m\u001B[0;34m\u001B[0m\u001B[0;34m\u001B[0m\u001B[0m\n\u001B[0;32m--> 210\u001B[0;31m                 raise TypeError(\"optimizer can only optimize Tensors, \"\n\u001B[0m\u001B[1;32m    211\u001B[0m                                 \"but one of the params is \" + torch.typename(param))\n\u001B[1;32m    212\u001B[0m             \u001B[0;32mif\u001B[0m \u001B[0;32mnot\u001B[0m \u001B[0mparam\u001B[0m\u001B[0;34m.\u001B[0m\u001B[0mis_leaf\u001B[0m\u001B[0;34m:\u001B[0m\u001B[0;34m\u001B[0m\u001B[0;34m\u001B[0m\u001B[0m\n",
      "\u001B[0;31mTypeError\u001B[0m: optimizer can only optimize Tensors, but one of the params is int"
     ]
    }
   ],
   "source": [
    "# Now like last time, let us define an optimizer and give the parameters to it.\n",
    "n_iter = 100\n",
    "opt = torch.optim.Adam([w1, b1, w2, b2], lr=0.01)"
   ]
  },
  {
   "cell_type": "code",
   "execution_count": null,
   "outputs": [],
   "source": [
    "# Loop over the data, make the forward, backward, step and zero grad\n",
    "for i in range(n_iter):\n",
    "    pass\n",
    "    # if not i % 10:\n",
    "    #     print(i, loss.item())"
   ],
   "metadata": {
    "collapsed": false,
    "pycharm": {
     "name": "#%%\n"
    }
   }
  },
  {
   "cell_type": "code",
   "execution_count": null,
   "outputs": [],
   "source": [
    "torch_lsp = torch.from_numpy(lsp)\n",
    "predicted_ys = f(torch_lsp).detach().numpy()\n",
    "\n",
    "plt.plot(lsp, true_ys, linestyle='dashed')\n",
    "plt.plot(lsp, predicted_ys)\n",
    "\n",
    "# Plot the samples\n",
    "plt.scatter(xs, noisy_sample_ys)\n",
    "plt.xlabel('x')\n",
    "plt.ylabel('y')\n",
    "plt.show()"
   ],
   "metadata": {
    "collapsed": false,
    "pycharm": {
     "name": "#%%\n"
    }
   }
  },
  {
   "cell_type": "markdown",
   "source": [
    "Congratulations, you have coded yourself a MLP model ! We have used the computation graph framework.\n",
    "Now let us make our code prettier (more Pytorch) and more efficient !\n",
    "\n",
    "First let us refactor the model in the proper way it should be coded, by using the torch.nn.Module class.\n",
    "You should add almost no new code, just reorganize the one above into a class."
   ],
   "metadata": {
    "collapsed": false,
    "pycharm": {
     "name": "#%% md\n"
    }
   }
  },
  {
   "cell_type": "code",
   "execution_count": null,
   "outputs": [],
   "source": [
    "from torch.nn import Module, Parameter\n",
    "\n",
    "\n",
    "class MyOwnMLP(Module):\n",
    "    def __init__(self):\n",
    "        super(MyOwnMLP, self).__init__()\n",
    "        self.w1 = Parameter(torch.normal(mean=0., std=0.1, size=(100, 1)))\n",
    "        # ...\n",
    "\n",
    "    def forward(self, x):\n",
    "        # Define the forward pass (computation graph) like above\n",
    "        return out\n",
    "\n",
    "\n",
    "model = MyOwnMLP()\n",
    "out = model(torch_xs)\n",
    "out.shape"
   ],
   "metadata": {
    "collapsed": false,
    "pycharm": {
     "name": "#%%\n"
    }
   }
  },
  {
   "cell_type": "markdown",
   "source": [
    "Now we are good to also make the data iteration process look like Pytorch code !\n",
    "\n",
    "We need to define a Dataset object. Once we have this, we can use it to create a DataLoader object"
   ],
   "metadata": {
    "collapsed": false,
    "pycharm": {
     "name": "#%% md\n"
    }
   }
  },
  {
   "cell_type": "code",
   "execution_count": null,
   "outputs": [],
   "source": [
    "from torch.utils.data import Dataset, DataLoader\n",
    "\n",
    "\n",
    "class CustomDataset(Dataset):\n",
    "    def __init__(self, data_x, data_y):\n",
    "        pass\n",
    "        # store the data\n",
    "\n",
    "    def __len__(self):\n",
    "        pass\n",
    "        # Return the number of points in your dataset\n",
    "\n",
    "    def __getitem__(self, index):\n",
    "        # Get the x and y at a given position (index) in the data\n",
    "        x=0\n",
    "        y=0\n",
    "        return x, y"
   ],
   "metadata": {
    "collapsed": false,
    "pycharm": {
     "name": "#%%\n"
    }
   }
  },
  {
   "cell_type": "code",
   "execution_count": null,
   "outputs": [],
   "source": [
    "# Loop and wait for each data point in PyTorch\n",
    "dataset = CustomDataset(data_x=xs, data_y=noisy_sample_ys)\n",
    "dataloader = DataLoader(dataset=dataset, batch_size=10, num_workers=6)\n",
    "start = time.time()\n",
    "for point in dataloader:\n",
    "    pass\n",
    "print('Done in pytorch : ', time.time() - start)"
   ],
   "metadata": {
    "collapsed": false,
    "pycharm": {
     "name": "#%%\n"
    }
   }
  },
  {
   "cell_type": "markdown",
   "source": [
    "The last thing missing to make our pipeline truly Pytorch is to use a GPU.\n",
    "\n",
    "In Pytorch it is really easy, you just need to 'move' your tensors to a 'device'.\n",
    "You can test if a gpu is available and create the appropriate device with the following lines:"
   ],
   "metadata": {
    "collapsed": false,
    "pycharm": {
     "name": "#%% md\n"
    }
   }
  },
  {
   "cell_type": "code",
   "execution_count": null,
   "outputs": [],
   "source": [
    "device = 'gpu' if torch.cuda.is_available() else 'cpu'\n",
    "torch_xs = torch_xs.to(device)"
   ],
   "metadata": {
    "collapsed": false,
    "pycharm": {
     "name": "#%%\n"
    }
   }
  },
  {
   "cell_type": "markdown",
   "source": [
    "Now we finally have all the elements to make an actual Pytorch complete pipeline !\n",
    "\n",
    "Create a model, and try to put it on a device.\n",
    "Create an optimizer with your model's parameters\n",
    "Make your data into a dataloader\n",
    "\n",
    "Then use two nested for loops : one for 100 epochs, and in each epoch loop over the dataloader\n",
    "    Inside the loop, for every batch first put the data on the device\n",
    "    Then use the semantics of above :\n",
    "        - model(batch)\n",
    "        - loss computation and backward\n",
    "        - gradient step and zero_grad"
   ],
   "metadata": {
    "collapsed": false,
    "pycharm": {
     "name": "#%% md\n"
    }
   }
  },
  {
   "cell_type": "code",
   "execution_count": null,
   "outputs": [],
   "source": [
    "n_epochs = 200\n",
    "\n",
    "for epoch in range(n_epochs):\n",
    "    for batch_x, batch_y in dataloader:\n",
    "        # Don't forget to send to device, the rest is similar to what we had above\n",
    "        pass\n",
    "\n",
    "# To easily use the trained model we need to send it back to cpu at the end\n",
    "model = model.to('cpu')"
   ],
   "metadata": {
    "collapsed": false,
    "pycharm": {
     "name": "#%%\n"
    }
   }
  },
  {
   "cell_type": "markdown",
   "source": [
    "We finally can plot the last model"
   ],
   "metadata": {
    "collapsed": false,
    "pycharm": {
     "name": "#%% md\n"
    }
   }
  },
  {
   "cell_type": "code",
   "execution_count": null,
   "outputs": [],
   "source": [
    "torch_lsp = torch.from_numpy(lsp)\n",
    "predicted_ys = model(torch_lsp).detach().numpy()\n",
    "\n",
    "plt.plot(lsp, true_ys, linestyle='dashed')\n",
    "plt.plot(lsp, predicted_ys)\n",
    "\n",
    "# Plot the samples\n",
    "plt.scatter(xs, noisy_sample_ys)\n",
    "plt.xlabel('x')\n",
    "plt.ylabel('y')\n",
    "plt.show()"
   ],
   "metadata": {
    "collapsed": false,
    "pycharm": {
     "name": "#%%\n"
    }
   }
  }
 ],
 "metadata": {
  "kernelspec": {
   "display_name": "Python 3 (ipykernel)",
   "language": "python",
   "name": "python3"
  },
  "language_info": {
   "codemirror_mode": {
    "name": "ipython",
    "version": 3
   },
   "file_extension": ".py",
   "mimetype": "text/x-python",
   "name": "python",
   "nbconvert_exporter": "python",
   "pygments_lexer": "ipython3",
   "version": "3.8.5"
  }
 },
 "nbformat": 4,
 "nbformat_minor": 1
}