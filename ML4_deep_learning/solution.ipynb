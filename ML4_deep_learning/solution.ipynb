{
 "cells": [
  {
   "cell_type": "markdown",
   "metadata": {
    "pycharm": {
     "name": "#%% md\n"
    }
   },
   "source": [
    "# Practical Session 4 - Deep Learning with PyTorch\n",
    "In this session we will start with our toy task again.\n",
    "Remember how we solved it with an MLP in the first class ?\n",
    "We used scikit-learn, a one liner but without control over what was happening.\n",
    "\n",
    "We will start by implementing the model in Pytorch, in a basic way.\n",
    "\n",
    "Then we will work our way to making our code looks like a real Pytorch code."
   ]
  },
  {
   "cell_type": "code",
   "execution_count": 134,
   "metadata": {
    "pycharm": {
     "name": "#%%\n"
    }
   },
   "outputs": [],
   "source": [
    "import numpy as np\n",
    "import matplotlib.pyplot as plt\n",
    "import torch\n",
    "import time\n",
    "\n",
    "np.random.seed(20)\n",
    "\n",
    "\n",
    "def base_function():\n",
    "    f = lambda x: 1.3 * x ** 3 - 3 * x ** 2 + 3.6 * x + 6.9\n",
    "    return f"
   ]
  },
  {
   "cell_type": "code",
   "execution_count": 135,
   "metadata": {
    "pycharm": {
     "name": "#%%\n"
    }
   },
   "outputs": [
    {
     "data": {
      "text/plain": "<Figure size 432x288 with 1 Axes>",
      "image/png": "[encoded data removed]"
     },
     "metadata": {
      "needs_background": "light"
     },
     "output_type": "display_data"
    }
   ],
   "source": [
    "\n",
    "low, high = -1, 3\n",
    "n_points = 80\n",
    "\n",
    "# Get the values\n",
    "bfunc = base_function()\n",
    "xs = np.random.uniform(low, high, n_points)\n",
    "ys_noise = np.random.normal(size=len(xs))\n",
    "sample_ys = bfunc(xs)\n",
    "noisy_sample_ys = sample_ys + ys_noise\n",
    "\n",
    "# Plot the hidden function\n",
    "lsp = np.linspace(low, high)\n",
    "true_ys = bfunc(lsp)\n",
    "plt.plot(lsp, true_ys, linestyle='dashed')\n",
    "\n",
    "# Plot the samples\n",
    "plt.scatter(xs, noisy_sample_ys)\n",
    "plt.xlabel('x')\n",
    "plt.ylabel('y')\n",
    "plt.show()"
   ]
  },
  {
   "cell_type": "markdown",
   "metadata": {
    "pycharm": {
     "name": "#%% md\n"
    }
   },
   "source": [
    "We used the following command to fit the regressor last time :\n",
    "\"from sklearn.neural_network import MLPRegressor\n",
    " mlp_model = MLPRegressor(max_iter=5000)\"\n",
    "\n",
    "By default, the MLP Regressor makes the following computational graph :\n",
    "- input gets multiplied by 100 parameters, and an additional parameter is added to each values, giving 100 outputs y\n",
    "- ReLU is applied to each of these outputs\n",
    "- Then all outputs are multiplied by a parameter (again 100 parameters) and all these values are summed and added to the result\n",
    "\n",
    "To make the two big multiplications, we will use one torch tensor of 100 parameters for each multiplication."
   ]
  },
  {
   "cell_type": "code",
   "execution_count": 136,
   "metadata": {},
   "outputs": [],
   "source": [
    "# First create the parameters with small random initial values.\n",
    "# We need to mention that we want to compute a gradient\n",
    "# I provide you with the example for the first one :\n",
    "w1 = torch.normal(mean=0., std=0.1, size=(100, 1), requires_grad=True)\n",
    "b1 = torch.normal(mean=0., std=0.1, size=(1,), requires_grad=True)\n",
    "w2 = torch.normal(mean=0., std=0.1, size=(100, 1), requires_grad=True)\n",
    "b2 = torch.normal(mean=0., std=0.1, size=(1,), requires_grad=True)"
   ]
  },
  {
   "cell_type": "code",
   "execution_count": 148,
   "metadata": {},
   "outputs": [
    {
     "data": {
      "text/plain": "torch.Size([1])"
     },
     "execution_count": 148,
     "metadata": {},
     "output_type": "execute_result"
    }
   ],
   "source": [
    "# Then define the function\n",
    "def f(x, weight1=w1, bias1=b1, weight2=w2, bias2=b2):\n",
    "    y1 = weight1 * x + bias1\n",
    "    a1 = torch.nn.functional.relu(y1)\n",
    "    out = torch.sum(a1 * weight2, dim=0) + bias2\n",
    "    return out\n",
    "\n",
    "\n",
    "# Just to be sure everything runs, we make an inference on one input\n",
    "sample_input = torch.ones(size=(1,))\n",
    "f(sample_input).shape"
   ]
  },
  {
   "cell_type": "markdown",
   "source": [
    "Now we will mostly use last class optimization procedure to train our network using Pytorch\n",
    "\n"
   ],
   "metadata": {
    "collapsed": false,
    "pycharm": {
     "name": "#%% md\n"
    }
   }
  },
  {
   "cell_type": "code",
   "execution_count": 138,
   "outputs": [
    {
     "data": {
      "text/plain": "torch.Size([80])"
     },
     "execution_count": 138,
     "metadata": {},
     "output_type": "execute_result"
    }
   ],
   "source": [
    "# Also set up the data\n",
    "# Check that when doing inference on the data, we get an output tensor of size 80\n",
    "# Call us if it is not the case, there is something ~ subtle and not interesting\n",
    "torch_xs = torch.from_numpy(xs)[None, :]\n",
    "torch_ys = torch.from_numpy(noisy_sample_ys)\n",
    "f(torch_xs).shape"
   ],
   "metadata": {
    "collapsed": false,
    "pycharm": {
     "name": "#%%\n"
    }
   }
  },
  {
   "cell_type": "code",
   "execution_count": 139,
   "metadata": {},
   "outputs": [],
   "source": [
    "# Now like last time, let us define an optimizer and give the parameters to it.\n",
    "n_iter = 100\n",
    "opt = torch.optim.Adam([w1, b1, w2, b2], lr=0.01)"
   ]
  },
  {
   "cell_type": "code",
   "execution_count": 140,
   "outputs": [
    {
     "name": "stdout",
     "output_type": "stream",
     "text": [
      "0 122.08734380851972\n",
      "10 65.8785346515202\n",
      "20 5.135073100245597\n",
      "30 9.742052029919284\n",
      "40 3.0890309969216245\n",
      "50 3.4087847857512017\n",
      "60 2.922226419139967\n",
      "70 2.734008395290053\n",
      "80 2.7423106193705546\n",
      "90 2.6914925080116037\n"
     ]
    }
   ],
   "source": [
    "for i in range(n_iter):\n",
    "    prediction = f(torch_xs, w1, b1, w2, b2)\n",
    "    loss = torch.mean((prediction - torch_ys) ** 2)\n",
    "    loss.backward()\n",
    "    opt.step()\n",
    "    opt.zero_grad()\n",
    "    if not i % 10:\n",
    "        print(i, loss.item())"
   ],
   "metadata": {
    "collapsed": false,
    "pycharm": {
     "name": "#%%\n"
    }
   }
  },
  {
   "cell_type": "code",
   "execution_count": 141,
   "outputs": [
    {
     "data": {
      "text/plain": "<Figure size 432x288 with 1 Axes>",
      "image/png": "[encoded data removed]"
     },
     "metadata": {
      "needs_background": "light"
     },
     "output_type": "display_data"
    }
   ],
   "source": [
    "torch_lsp = torch.from_numpy(lsp)\n",
    "predicted_ys = f(torch_lsp).detach().numpy()\n",
    "\n",
    "plt.plot(lsp, true_ys, linestyle='dashed')\n",
    "plt.plot(lsp, predicted_ys)\n",
    "\n",
    "# Plot the samples\n",
    "plt.scatter(xs, noisy_sample_ys)\n",
    "plt.xlabel('x')\n",
    "plt.ylabel('y')\n",
    "plt.show()"
   ],
   "metadata": {
    "collapsed": false,
    "pycharm": {
     "name": "#%%\n"
    }
   }
  },
  {
   "cell_type": "markdown",
   "source": [
    "Congratulations, you have coded yourself a MLP model ! We have used the computation graph framework.\n",
    "Now let us make our code prettier (more Pytorch) and more efficient !\n",
    "\n",
    "First let us refactor the model in the proper way it should be coded, by using the torch.nn.Module class.\n",
    "You should add almost no new code, just reorganize the one above into a class."
   ],
   "metadata": {
    "collapsed": false,
    "pycharm": {
     "name": "#%% md\n"
    }
   }
  },
  {
   "cell_type": "code",
   "execution_count": 142,
   "outputs": [
    {
     "data": {
      "text/plain": "torch.Size([80])"
     },
     "execution_count": 142,
     "metadata": {},
     "output_type": "execute_result"
    }
   ],
   "source": [
    "from torch.nn import Module, Parameter\n",
    "\n",
    "\n",
    "class MyOwnMLP(Module):\n",
    "    def __init__(self):\n",
    "        super(MyOwnMLP, self).__init__()\n",
    "        self.w1 = Parameter(torch.normal(mean=0., std=0.1, size=(100, 1)))\n",
    "        self.b1 = Parameter(torch.normal(mean=0., std=0.1, size=(1,)))\n",
    "        self.w2 = Parameter(torch.normal(mean=0., std=0.1, size=(100, 1)))\n",
    "        self.b2 = Parameter(torch.normal(mean=0., std=0.1, size=(1,)))\n",
    "\n",
    "    def forward(self, x):\n",
    "        y1 = self.w1 * x + self.b1\n",
    "        a1 = torch.nn.functional.relu(y1)\n",
    "        out = torch.sum(a1 * self.w2, dim=0) + self.b2\n",
    "        return out\n",
    "\n",
    "\n",
    "model = MyOwnMLP()\n",
    "out = model(torch_xs)\n",
    "out.shape"
   ],
   "metadata": {
    "collapsed": false,
    "pycharm": {
     "name": "#%%\n"
    }
   }
  },
  {
   "cell_type": "markdown",
   "source": [
    "Now we are good to also make the data iteration process look like Pytorch code !\n",
    "\n",
    "We need to define a Dataset object. Once we have this, we can use it to create a DataLoader object"
   ],
   "metadata": {
    "collapsed": false,
    "pycharm": {
     "name": "#%% md\n"
    }
   }
  },
  {
   "cell_type": "code",
   "execution_count": 143,
   "outputs": [],
   "source": [
    "from torch.utils.data import Dataset, DataLoader\n",
    "\n",
    "\n",
    "class CustomDataset(Dataset):\n",
    "    def __init__(self, data_x, data_y):\n",
    "        self.data_x = data_x\n",
    "        self.data_y = data_y\n",
    "\n",
    "    def __len__(self):\n",
    "        return len(self.data_x)\n",
    "\n",
    "    def __getitem__(self, idx):\n",
    "        x = self.data_x[idx]\n",
    "        y = self.data_y[idx]\n",
    "        return x, y"
   ],
   "metadata": {
    "collapsed": false,
    "pycharm": {
     "name": "#%%\n"
    }
   }
  },
  {
   "cell_type": "code",
   "execution_count": 144,
   "outputs": [
    {
     "name": "stdout",
     "output_type": "stream",
     "text": [
      "Done in pytorch :  0.05472087860107422\n"
     ]
    }
   ],
   "source": [
    "# Loop and wait for each data point in PyTorch\n",
    "dataset = CustomDataset(data_x=xs, data_y=noisy_sample_ys)\n",
    "dataloader = DataLoader(dataset=dataset, batch_size=10, num_workers=6)\n",
    "start = time.time()\n",
    "for point in dataloader:\n",
    "    pass\n",
    "print('Done in pytorch : ', time.time() - start)"
   ],
   "metadata": {
    "collapsed": false,
    "pycharm": {
     "name": "#%%\n"
    }
   }
  },
  {
   "cell_type": "markdown",
   "source": [
    "The last thing missing to make our pipeline truly Pytorch is to use a GPU.\n",
    "\n",
    "In Pytorch it is really easy, you just need to 'move' your tensors to a 'device'.\n",
    "You can test if a gpu is available and create the appropriate device with the following lines:"
   ],
   "metadata": {
    "collapsed": false,
    "pycharm": {
     "name": "#%% md\n"
    }
   }
  },
  {
   "cell_type": "code",
   "execution_count": 145,
   "outputs": [],
   "source": [
    "device = 'gpu' if torch.cuda.is_available() else 'cpu'\n",
    "torch_xs = torch_xs.to(device)"
   ],
   "metadata": {
    "collapsed": false,
    "pycharm": {
     "name": "#%%\n"
    }
   }
  },
  {
   "cell_type": "markdown",
   "source": [
    "Now we finally have all the elements to make an actual Pytorch complete pipeline !\n",
    "\n",
    "Create a model, and try to put it on a device.\n",
    "Create an optimizer with your model's parameters\n",
    "Make your data into a dataloader\n",
    "\n",
    "Then use two nested for loops : one for 100 epochs, and in each epoch loop over the dataloader\n",
    "    Inside the loop, for every batch first put the data on the device\n",
    "    Then use the semantics of above :\n",
    "        - model(batch)\n",
    "        - loss computation and backward\n",
    "        - gradient step and zero_grad"
   ],
   "metadata": {
    "collapsed": false,
    "pycharm": {
     "name": "#%% md\n"
    }
   }
  },
  {
   "cell_type": "code",
   "execution_count": 146,
   "outputs": [
    {
     "name": "stdout",
     "output_type": "stream",
     "text": [
      "0 120.45785424073111\n",
      "10 5.174926444271767\n",
      "20 4.95748963864474\n",
      "30 4.719465816959692\n",
      "40 4.5147076672615984\n",
      "50 4.335283004134291\n",
      "60 4.171850699672719\n",
      "70 4.023569839563421\n",
      "80 3.8816770788569337\n",
      "90 3.7214379715969423\n",
      "100 3.561050035586013\n",
      "110 3.4047122089062336\n",
      "120 3.2551898711484837\n",
      "130 3.10609623429049\n",
      "140 2.933859730176305\n",
      "150 2.84113756942939\n",
      "160 2.7053836912904514\n",
      "170 2.5900340213973174\n",
      "180 2.4944743890273653\n",
      "190 2.4331432377920033\n"
     ]
    }
   ],
   "source": [
    "n_epochs = 200\n",
    "model = MyOwnMLP()\n",
    "opt = torch.optim.Adam(model.parameters(), lr=0.01)\n",
    "\n",
    "dataset = CustomDataset(data_x=xs, data_y=noisy_sample_ys)\n",
    "dataloader = DataLoader(dataset=dataset, batch_size=10, num_workers=6)\n",
    "\n",
    "loss = 0\n",
    "for epoch in range(n_epochs):\n",
    "    for batch_x, batch_y in dataloader:\n",
    "        batch_x, batch_y = batch_x.to(device), batch_y.to(device)\n",
    "        prediction = model(batch_x)\n",
    "        loss = torch.mean((prediction - batch_y) ** 2)\n",
    "        loss.backward()\n",
    "        opt.step()\n",
    "        opt.zero_grad()\n",
    "        loss = loss.item()\n",
    "    if not epoch % 10:\n",
    "        print(epoch, loss)\n",
    "\n",
    "# To easily use the trained model we need to send it back to cpu at the end\n",
    "model = model.to('cpu')"
   ],
   "metadata": {
    "collapsed": false,
    "pycharm": {
     "name": "#%%\n"
    }
   }
  },
  {
   "cell_type": "markdown",
   "source": [
    "We finally can plot the last model"
   ],
   "metadata": {
    "collapsed": false,
    "pycharm": {
     "name": "#%% md\n"
    }
   }
  },
  {
   "cell_type": "code",
   "execution_count": 147,
   "outputs": [
    {
     "data": {
      "text/plain": "<Figure size 432x288 with 1 Axes>",
      "image/png": "[encoded data removed]"
     },
     "metadata": {
      "needs_background": "light"
     },
     "output_type": "display_data"
    }
   ],
   "source": [
    "torch_lsp = torch.from_numpy(lsp)\n",
    "predicted_ys = model(torch_lsp).detach().numpy()\n",
    "\n",
    "plt.plot(lsp, true_ys, linestyle='dashed')\n",
    "plt.plot(lsp, predicted_ys)\n",
    "\n",
    "# Plot the samples\n",
    "plt.scatter(xs, noisy_sample_ys)\n",
    "plt.xlabel('x')\n",
    "plt.ylabel('y')\n",
    "plt.show()"
   ],
   "metadata": {
    "collapsed": false,
    "pycharm": {
     "name": "#%%\n"
    }
   }
  }
 ],
 "metadata": {
  "kernelspec": {
   "display_name": "Python 3 (ipykernel)",
   "language": "python",
   "name": "python3"
  },
  "language_info": {
   "codemirror_mode": {
    "name": "ipython",
    "version": 3
   },
   "file_extension": ".py",
   "mimetype": "text/x-python",
   "name": "python",
   "nbconvert_exporter": "python",
   "pygments_lexer": "ipython3",
   "version": "3.8.5"
  }
 },
 "nbformat": 4,
 "nbformat_minor": 1
}