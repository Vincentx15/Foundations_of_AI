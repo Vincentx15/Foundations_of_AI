{
 "cells": [
  {
   "cell_type": "markdown",
   "metadata": {
    "pycharm": {
     "name": "#%% md\n"
    }
   },
   "source": [
    "# Practical Session 4 - Deep Learning with PyTorch\n",
    "In this session we will start with our toy task again.\n",
    "Remember how we solved it with an MLP in the first class ?\n",
    "We used scikit-learn, a one liner but without control over what was happening.\n",
    "\n",
    "We will start by implementing the model in Pytorch, in a basic way.\n",
    "\n",
    "Then we will work our way to making our code looks like a real Pytorch code."
   ]
  },
  {
   "cell_type": "code",
   "execution_count": 115,
   "metadata": {
    "pycharm": {
     "name": "#%%\n"
    }
   },
   "outputs": [],
   "source": [
    "import numpy as np\n",
    "import matplotlib.pyplot as plt\n",
    "import torch\n",
    "import time\n",
    "\n",
    "np.random.seed(20)\n",
    "\n",
    "\n",
    "def base_function():\n",
    "    f = lambda x: 1.3 * x ** 3 - 3 * x ** 2 + 3.6 * x + 6.9\n",
    "    return f"
   ]
  },
  {
   "cell_type": "code",
   "execution_count": 116,
   "metadata": {
    "pycharm": {
     "name": "#%%\n"
    }
   },
   "outputs": [
    {
     "data": {
      "text/plain": "<Figure size 432x288 with 1 Axes>",
      "image/png": "[encoded data removed]"
     },
     "metadata": {
      "needs_background": "light"
     },
     "output_type": "display_data"
    }
   ],
   "source": [
    "\n",
    "low, high = -1, 3\n",
    "n_points = 80\n",
    "\n",
    "# Get the values\n",
    "bfunc = base_function()\n",
    "xs = np.random.uniform(low, high, n_points)\n",
    "sample_ys = bfunc(xs)\n",
    "ys_noise = np.random.normal(size=len(xs))\n",
    "noisy_sample_ys = sample_ys + ys_noise\n",
    "\n",
    "# Plot the hidden function\n",
    "lsp = np.linspace(low, high)\n",
    "true_ys = bfunc(lsp)\n",
    "plt.plot(lsp, true_ys, linestyle='dashed')\n",
    "\n",
    "# Plot the samples\n",
    "plt.scatter(xs, noisy_sample_ys)\n",
    "plt.xlabel('x')\n",
    "plt.ylabel('y')\n",
    "plt.show()"
   ]
  },
  {
   "cell_type": "markdown",
   "metadata": {
    "pycharm": {
     "name": "#%% md\n"
    }
   },
   "source": [
    "We used the following command to fit the regressor last time :\n",
    "\"from sklearn.neural_network import MLPRegressor\n",
    " mlp_model = MLPRegressor(max_iter=5000)\"\n",
    "\n",
    "By default, the MLP Regressor makes the following computational graph :\n",
    "- input gets multiplied by a matrix with 100 parameters, and an additional parameter is added to each values, giving 100 outputs y (shape = (n_samples, 100))\n",
    "- ReLU is applied to each of these outputs (shape = (n_samples, 100)). The relu function is implemented in PyTorch with torch.nn.functional.relu(x)\n",
    "- Then this value is multiplied by a matrix to produce a scalar output (again 100 parameters) (shape = (n_samples, 1)) and shifted by an offset.\n",
    "\n",
    "A quick reminder on matrix multiplication : it is an operation that combines one matrix A of shape (m,n) and a matrix B of shape (n,p) into a matrix C of shape (m,p). In PyTorch (and NumPy), you need to call torch.matmul(A,B) to make this computation.\n",
    "\n",
    "To make the two big multiplications, we will use one torch tensor of 100 parameters for each multiplication, with the appropriate shape.Create random starting tensors of parameters.\n",
    "\n",
    "Then implement the asked computation to produce our output from our input. You should debug the operations by ensuring the shapes are correct.\n"
   ]
  },
  {
   "cell_type": "code",
   "execution_count": 117,
   "metadata": {},
   "outputs": [],
   "source": [
    "# First create the parameters with small random initial values.\n",
    "# We need to mention that we want to compute a gradient\n",
    "# I provide you with the example for the first one :\n",
    "w1 = torch.normal(mean=0., std=0.1, size=(1, 100), requires_grad=True)\n",
    "b1 = torch.normal(mean=0., std=0.1, size=(1,), requires_grad=True)\n",
    "w2 = torch.normal(mean=0., std=0.1, size=(100, 1), requires_grad=True)\n",
    "b2 = torch.normal(mean=0., std=0.1, size=(1,), requires_grad=True)"
   ]
  },
  {
   "cell_type": "code",
   "execution_count": 118,
   "metadata": {},
   "outputs": [
    {
     "data": {
      "text/plain": "torch.Size([1])"
     },
     "execution_count": 118,
     "metadata": {},
     "output_type": "execute_result"
    }
   ],
   "source": [
    "# Then define the function\n",
    "def f(x, weight1=w1, bias1=b1, weight2=w2, bias2=b2):\n",
    "    y1 = torch.matmul(x, weight1) + bias1\n",
    "    a1 = torch.nn.functional.relu(y1)\n",
    "    out = torch.matmul(a1, weight2) + bias2\n",
    "    return out\n",
    "\n",
    "\n",
    "# Just to be sure everything runs, we make an inference on one input\n",
    "sample_input = torch.ones(size=(1,))\n",
    "f(sample_input).shape"
   ]
  },
  {
   "cell_type": "markdown",
   "source": [
    "Now we will mostly use last class optimization procedure to train our network using Pytorch\n",
    "\n"
   ],
   "metadata": {
    "collapsed": false,
    "pycharm": {
     "name": "#%% md\n"
    }
   }
  },
  {
   "cell_type": "code",
   "execution_count": 119,
   "outputs": [
    {
     "data": {
      "text/plain": "torch.Size([80, 1])"
     },
     "execution_count": 119,
     "metadata": {},
     "output_type": "execute_result"
    }
   ],
   "source": [
    "# Also set up the data\n",
    "# Check that when doing inference on the data, we get an output tensor of shape (80,1).\n",
    "# Call us if it is not the case, there is something ~ subtle and not interesting\n",
    "torch_xs = torch.from_numpy(xs).float()[:, None]\n",
    "torch_noisy_ys = torch.from_numpy(noisy_sample_ys)[:, None]\n",
    "f(torch_xs).shape"
   ],
   "metadata": {
    "collapsed": false,
    "pycharm": {
     "name": "#%%\n"
    }
   }
  },
  {
   "cell_type": "code",
   "execution_count": 120,
   "metadata": {},
   "outputs": [],
   "source": [
    "# Now like last time, let us define an optimizer and give the parameters to it.\n",
    "n_iter = 2000\n",
    "opt = torch.optim.Adam([w1, b1, w2, b2], lr=0.01)"
   ]
  },
  {
   "cell_type": "code",
   "execution_count": 121,
   "outputs": [
    {
     "name": "stdout",
     "output_type": "stream",
     "text": [
      "0 128.43667777653522\n",
      "10 68.12167658962085\n",
      "20 6.690158956321376\n",
      "30 10.50306358754553\n",
      "40 3.134505362676049\n",
      "50 3.6354522967544263\n",
      "60 2.980666531788375\n",
      "70 2.8732974917171084\n",
      "80 2.8638047910947817\n",
      "90 2.8035664632056325\n",
      "100 2.783276673338631\n",
      "110 2.766159368667925\n",
      "120 2.7472975928650043\n",
      "130 2.7296354807311287\n",
      "140 2.7129995441452155\n",
      "150 2.696959975682973\n",
      "160 2.681774791099832\n",
      "170 2.666131932849785\n",
      "180 2.6497479162291198\n",
      "190 2.6336963455773925\n",
      "200 2.617368445783595\n",
      "210 2.6004877830336555\n",
      "220 2.584116459848662\n",
      "230 2.5669638023873818\n",
      "240 2.5478843227175063\n",
      "250 2.5260372710509422\n",
      "260 2.500478840671688\n",
      "270 2.470838674127726\n",
      "280 2.438364084447726\n",
      "290 2.4045284339213984\n",
      "300 2.370490439888011\n",
      "310 2.337166324210157\n",
      "320 2.3053845134429176\n",
      "330 2.2758252243324124\n",
      "340 2.248729294383608\n",
      "350 2.2239706717601395\n",
      "360 2.2013533975403523\n",
      "370 2.1805171609132565\n",
      "380 2.1610453725305567\n",
      "390 2.142584280779783\n",
      "400 2.124909874560971\n",
      "410 2.107870132160181\n",
      "420 2.091426795289679\n",
      "430 2.0755645145492196\n",
      "440 2.060221604125945\n",
      "450 2.045353440025478\n",
      "460 2.031040670574952\n",
      "470 2.017165390009646\n",
      "480 2.003689153409268\n",
      "490 1.990734195523619\n",
      "500 1.9781702707927267\n",
      "510 1.9660133081909297\n",
      "520 1.954126484518855\n",
      "530 1.9424277765335325\n",
      "540 1.9310819353974495\n",
      "550 1.9199293206118184\n",
      "560 1.9089931929721224\n",
      "570 1.8982366720001438\n",
      "580 1.887674404709206\n",
      "590 1.8770920402605171\n",
      "600 1.8667670229793856\n",
      "610 1.8562136934647981\n",
      "620 1.8456754202967658\n",
      "630 1.8352258838615483\n",
      "640 1.8246500675232618\n",
      "650 1.8141252709131734\n",
      "660 1.8034869193496577\n",
      "670 1.792724037378892\n",
      "680 1.7820425800384954\n",
      "690 1.771299276182401\n",
      "700 1.7602233158825158\n",
      "710 1.7490392589948691\n",
      "720 1.7379742413995167\n",
      "730 1.7271153154474042\n",
      "740 1.7161792122103265\n",
      "750 1.705107386266898\n",
      "760 1.694236836516423\n",
      "770 1.6835445363783912\n",
      "780 1.6727299037309655\n",
      "790 1.6624367017035984\n",
      "800 1.6518814050747672\n",
      "810 1.6414418852990653\n",
      "820 1.6310831068344076\n",
      "830 1.6210752257084557\n",
      "840 1.610966427978258\n",
      "850 1.6009806396320472\n",
      "860 1.5908878993975848\n",
      "870 1.5807522391049804\n",
      "880 1.5708468560239965\n",
      "890 1.5603203979418132\n",
      "900 1.550358456422659\n",
      "910 1.5402222126083438\n",
      "920 1.5297716421004197\n",
      "930 1.5187249310326485\n",
      "940 1.5073739853313914\n",
      "950 1.496630408028435\n",
      "960 1.4865971426115172\n",
      "970 1.4765180070188577\n",
      "980 1.4665324965340694\n",
      "990 1.4566406853966243\n",
      "1000 1.4457557328189277\n",
      "1010 1.433529278080132\n",
      "1020 1.4229814636429512\n",
      "1030 1.413044239793209\n",
      "1040 1.403659209034045\n",
      "1050 1.3942486207227314\n",
      "1060 1.3852046616831604\n",
      "1070 1.3762534244425282\n",
      "1080 1.3680384465117785\n",
      "1090 1.3601313235227255\n",
      "1100 1.351174430512199\n",
      "1110 1.3433134448114952\n",
      "1120 1.3343830035647952\n",
      "1130 1.3265577564203648\n",
      "1140 1.317857226571632\n",
      "1150 1.310357959667969\n",
      "1160 1.3027901395977177\n",
      "1170 1.2957633897112522\n",
      "1180 1.2887739831407692\n",
      "1190 1.2821188344967596\n",
      "1200 1.2750200963117155\n",
      "1210 1.2684824416052494\n",
      "1220 1.2622948044769209\n",
      "1230 1.256476696223673\n",
      "1240 1.2509761329033577\n",
      "1250 1.2444741079570452\n",
      "1260 1.2386552877204842\n",
      "1270 1.2329857764191456\n",
      "1280 1.2262265418020917\n",
      "1290 1.2200667929294395\n",
      "1300 1.2147245170971899\n",
      "1310 1.2093784336893756\n",
      "1320 1.2046625030160727\n",
      "1330 1.1999933067909114\n",
      "1340 1.1955294282938729\n",
      "1350 1.1910341308828558\n",
      "1360 1.1870538778905926\n",
      "1370 1.1801676714583198\n",
      "1380 1.1742770977425976\n",
      "1390 1.1698039242524294\n",
      "1400 1.1658429845470357\n",
      "1410 1.1616249347045773\n",
      "1420 1.1577458388871602\n",
      "1430 1.1544596585659146\n",
      "1440 1.1514239935779966\n",
      "1450 1.1475718440581995\n",
      "1460 1.1432017740126357\n",
      "1470 1.1401137826463092\n",
      "1480 1.1366409231096575\n",
      "1490 1.1337979689802702\n",
      "1500 1.1307361062428067\n",
      "1510 1.1282616919242079\n",
      "1520 1.124802086935913\n",
      "1530 1.122008055707223\n",
      "1540 1.1198986657042715\n",
      "1550 1.1179723462203213\n",
      "1560 1.1140679572158998\n",
      "1570 1.1116301256171586\n",
      "1580 1.1087865906464796\n",
      "1590 1.1072237082189038\n",
      "1600 1.1042322955310717\n",
      "1610 1.1005043858597152\n",
      "1620 1.0985069684817759\n",
      "1630 1.0961196810985299\n",
      "1640 1.0940868610823675\n",
      "1650 1.0915323775819206\n",
      "1660 1.087618766089482\n",
      "1670 1.084610892225263\n",
      "1680 1.0820762768258458\n",
      "1690 1.0806145164788865\n",
      "1700 1.0778240628584868\n",
      "1710 1.076010791610303\n",
      "1720 1.0740024092724838\n",
      "1730 1.0727059060908102\n",
      "1740 1.0711760462835318\n",
      "1750 1.069564281011785\n",
      "1760 1.0686610706228983\n",
      "1770 1.0669776495881953\n",
      "1780 1.0649921957192752\n",
      "1790 1.0640051705262092\n",
      "1800 1.0619823491597802\n",
      "1810 1.060897339005599\n",
      "1820 1.0598456362060396\n",
      "1830 1.0591937406298082\n",
      "1840 1.0578872107531598\n",
      "1850 1.0569169152326667\n",
      "1860 1.0559789953628427\n",
      "1870 1.055590068240428\n",
      "1880 1.0548925057866028\n",
      "1890 1.0538035935633894\n",
      "1900 1.0527731211674598\n",
      "1910 1.0523355366148415\n",
      "1920 1.0511391854265124\n",
      "1930 1.0506581609645287\n",
      "1940 1.0499443854387736\n",
      "1950 1.0495484407325295\n",
      "1960 1.0490071263724743\n",
      "1970 1.0482651086326709\n",
      "1980 1.047968666226582\n",
      "1990 1.0470984454088281\n"
     ]
    }
   ],
   "source": [
    "# Loop over the data, make the forward, backward, step and zero grad\n",
    "for i in range(n_iter):\n",
    "    prediction = f(torch_xs, w1, b1, w2, b2)\n",
    "    loss = torch.mean((prediction - torch_noisy_ys) ** 2)\n",
    "    loss.backward()\n",
    "    opt.step()\n",
    "    opt.zero_grad()\n",
    "    if not i % 10:\n",
    "        print(i, loss.item())"
   ],
   "metadata": {
    "collapsed": false,
    "pycharm": {
     "name": "#%%\n"
    }
   }
  },
  {
   "cell_type": "code",
   "execution_count": 131,
   "outputs": [
    {
     "data": {
      "text/plain": "<Figure size 432x288 with 1 Axes>",
      "image/png": "[encoded data removed]"
     },
     "metadata": {
      "needs_background": "light"
     },
     "output_type": "display_data"
    }
   ],
   "source": [
    "torch_lsp = torch.from_numpy(lsp).float()[:, None]\n",
    "predicted_ys = f(torch_lsp).detach().numpy()\n",
    "\n",
    "plt.plot(lsp, true_ys, linestyle='dashed')\n",
    "plt.plot(lsp, predicted_ys)\n",
    "\n",
    "# Plot the samples\n",
    "plt.scatter(xs, noisy_sample_ys)\n",
    "plt.xlabel('x')\n",
    "plt.ylabel('y')\n",
    "plt.show()"
   ],
   "metadata": {
    "collapsed": false,
    "pycharm": {
     "name": "#%%\n"
    }
   }
  },
  {
   "cell_type": "markdown",
   "source": [
    "Congratulations, you have coded yourself a MLP model ! We have used the computation graph framework.\n",
    "\n",
    "\n",
    "Now let us make our code prettier (more Pytorch) and more efficient.\n",
    "First let us refactor the model in the proper way it should be coded, by using the torch.nn.Module class.\n",
    "You should add almost no new code, just reorganize the one above into a class."
   ],
   "metadata": {
    "collapsed": false,
    "pycharm": {
     "name": "#%% md\n"
    }
   }
  },
  {
   "cell_type": "code",
   "execution_count": 123,
   "outputs": [
    {
     "data": {
      "text/plain": "torch.Size([80, 1])"
     },
     "execution_count": 123,
     "metadata": {},
     "output_type": "execute_result"
    }
   ],
   "source": [
    "from torch.nn import Module, Parameter\n",
    "\n",
    "\n",
    "class MyOwnMLP(Module):\n",
    "    def __init__(self):\n",
    "        super(MyOwnMLP, self).__init__()\n",
    "        self.w1 = Parameter(torch.normal(mean=0., std=0.1, size=(1, 100)))\n",
    "        self.b1 = Parameter(torch.normal(mean=0., std=0.1, size=(1,)))\n",
    "        self.w2 = Parameter(torch.normal(mean=0., std=0.1, size=(100, 1)))\n",
    "        self.b2 = Parameter(torch.normal(mean=0., std=0.1, size=(1,)))\n",
    "\n",
    "    def forward(self, x):\n",
    "        y1 = torch.matmul(x, self.w1) + self.b1\n",
    "        a1 = torch.nn.functional.relu(y1)\n",
    "        out = torch.matmul(a1, self.w2) + self.b2\n",
    "        return out\n",
    "\n",
    "\n",
    "model = MyOwnMLP()\n",
    "out = model(torch_xs)\n",
    "out.shape"
   ],
   "metadata": {
    "collapsed": false,
    "pycharm": {
     "name": "#%%\n"
    }
   }
  },
  {
   "cell_type": "markdown",
   "source": [
    "Now we are good to also make the data iteration process look like Pytorch code !\n",
    "\n",
    "We need to define a Dataset object. Once we have this, we can use it to create a DataLoader object"
   ],
   "metadata": {
    "collapsed": false,
    "pycharm": {
     "name": "#%% md\n"
    }
   }
  },
  {
   "cell_type": "code",
   "execution_count": 124,
   "outputs": [],
   "source": [
    "from torch.utils.data import Dataset, DataLoader\n",
    "\n",
    "\n",
    "class CustomDataset(Dataset):\n",
    "    def __init__(self, data_x, data_y):\n",
    "        self.data_x = data_x\n",
    "        self.data_y = data_y\n",
    "\n",
    "    def __len__(self):\n",
    "        return len(self.data_x)\n",
    "\n",
    "    def __getitem__(self, idx):\n",
    "        x = self.data_x[idx]\n",
    "        y = self.data_y[idx]\n",
    "        return x, y"
   ],
   "metadata": {
    "collapsed": false,
    "pycharm": {
     "name": "#%%\n"
    }
   }
  },
  {
   "cell_type": "code",
   "execution_count": 125,
   "outputs": [
    {
     "name": "stdout",
     "output_type": "stream",
     "text": [
      "Done in pytorch :  0.0543065071105957\n"
     ]
    }
   ],
   "source": [
    "# Loop and wait for each data point in PyTorch\n",
    "dataset = CustomDataset(data_x=torch_xs, data_y=torch_noisy_ys)\n",
    "dataloader = DataLoader(dataset=dataset, batch_size=10, num_workers=6)\n",
    "start = time.time()\n",
    "for point in dataloader:\n",
    "    pass\n",
    "print('Done in pytorch : ', time.time() - start)"
   ],
   "metadata": {
    "collapsed": false,
    "pycharm": {
     "name": "#%%\n"
    }
   }
  },
  {
   "cell_type": "markdown",
   "source": [
    "The last thing missing to make our pipeline truly Pytorch is to use a GPU.\n",
    "\n",
    "In Pytorch it is really easy, you just need to 'move' your tensors to a 'device'.\n",
    "You can test if a gpu is available and create the appropriate device with the following lines:"
   ],
   "metadata": {
    "collapsed": false,
    "pycharm": {
     "name": "#%% md\n"
    }
   }
  },
  {
   "cell_type": "code",
   "execution_count": 128,
   "outputs": [],
   "source": [
    "device = 'gpu' if torch.cuda.is_available() else 'cpu'\n",
    "torch_xs = torch_xs.to(device)"
   ],
   "metadata": {
    "collapsed": false,
    "pycharm": {
     "name": "#%%\n"
    }
   }
  },
  {
   "cell_type": "markdown",
   "source": [
    "Now we finally have all the elements to make an actual Pytorch complete pipeline !\n",
    "\n",
    "Create a model, and try to put it on a device.\n",
    "Create an optimizer with your model's parameters\n",
    "Make your data into a dataloader\n",
    "\n",
    "Then use two nested for loops : one for 100 epochs, and in each epoch loop over the dataloader\n",
    "    Inside the loop, for every batch first put the data on the device\n",
    "    Then use the semantics of above :\n",
    "        - model(batch)\n",
    "        - loss computation and backward\n",
    "        - gradient step and zero_grad"
   ],
   "metadata": {
    "collapsed": false,
    "pycharm": {
     "name": "#%% md\n"
    }
   }
  },
  {
   "cell_type": "code",
   "execution_count": 129,
   "outputs": [
    {
     "name": "stdout",
     "output_type": "stream",
     "text": [
      "0 115.58181236370794\n",
      "10 4.876030560147656\n",
      "20 4.623135580303074\n",
      "30 4.414736199352729\n",
      "40 4.254505303410427\n",
      "50 4.118651449373032\n",
      "60 3.977240491452485\n",
      "70 3.853051635376525\n",
      "80 3.6870414362462904\n",
      "90 3.5334030363789237\n",
      "100 3.3648277025990483\n",
      "110 3.2131317566491235\n",
      "120 3.0696570568643717\n",
      "130 2.8775151493583775\n",
      "140 2.743688015336937\n",
      "150 2.624270677580293\n",
      "160 2.508799282552414\n",
      "170 2.4268398561616977\n",
      "180 2.379719100871229\n",
      "190 2.3103285839193424\n"
     ]
    }
   ],
   "source": [
    "n_epochs = 200\n",
    "model = MyOwnMLP()\n",
    "opt = torch.optim.Adam(model.parameters(), lr=0.01)\n",
    "\n",
    "dataset = CustomDataset(data_x=torch_xs, data_y=torch_noisy_ys)\n",
    "dataloader = DataLoader(dataset=dataset, batch_size=10, num_workers=6)\n",
    "\n",
    "loss = 0\n",
    "for epoch in range(n_epochs):\n",
    "    for batch_x, batch_y in dataloader:\n",
    "        batch_x, batch_y = batch_x.to(device), batch_y.to(device)\n",
    "        prediction = model(batch_x)\n",
    "        loss = torch.mean((prediction - batch_y) ** 2)\n",
    "        loss.backward()\n",
    "        opt.step()\n",
    "        opt.zero_grad()\n",
    "        loss = loss.item()\n",
    "    if not epoch % 10:\n",
    "        print(epoch, loss)\n",
    "\n",
    "# To easily use the trained model we need to send it back to cpu at the end\n",
    "model = model.to('cpu')"
   ],
   "metadata": {
    "collapsed": false,
    "pycharm": {
     "name": "#%%\n"
    }
   }
  },
  {
   "cell_type": "markdown",
   "source": [
    "We finally can plot the last model"
   ],
   "metadata": {
    "collapsed": false,
    "pycharm": {
     "name": "#%% md\n"
    }
   }
  },
  {
   "cell_type": "code",
   "execution_count": 133,
   "outputs": [
    {
     "data": {
      "text/plain": "<Figure size 432x288 with 1 Axes>",
      "image/png": "[encoded data removed]"
     },
     "metadata": {
      "needs_background": "light"
     },
     "output_type": "display_data"
    }
   ],
   "source": [
    "plt.plot(lsp, true_ys, linestyle='dashed')\n",
    "plt.plot(lsp, predicted_ys)\n",
    "\n",
    "# Plot the samples\n",
    "plt.scatter(xs, noisy_sample_ys)\n",
    "plt.xlabel('x')\n",
    "plt.ylabel('y')\n",
    "plt.show()"
   ],
   "metadata": {
    "collapsed": false,
    "pycharm": {
     "name": "#%%\n"
    }
   }
  }
 ],
 "metadata": {
  "kernelspec": {
   "display_name": "Python 3 (ipykernel)",
   "language": "python",
   "name": "python3"
  },
  "language_info": {
   "codemirror_mode": {
    "name": "ipython",
    "version": 3
   },
   "file_extension": ".py",
   "mimetype": "text/x-python",
   "name": "python",
   "nbconvert_exporter": "python",
   "pygments_lexer": "ipython3",
   "version": "3.8.5"
  }
 },
 "nbformat": 4,
 "nbformat_minor": 1
}