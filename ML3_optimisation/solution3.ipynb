{
 "cells": [
  {
   "cell_type": "markdown",
   "id": "f52207e3",
   "metadata": {},
   "source": [
    "# Practical Session 3 - Optimization\n",
    "\n",
    "In this session we will talk about optimization in general and its application to machine learning.\n",
    "\n",
    "First we will look into a general setting. Let us simply minimize the function :\n",
    " $ f(x) = x^2 $ when starting from $x_0=2$\n",
    " \n",
    " A one liner for that is to use scipy.optimize"
   ]
  },
  {
   "cell_type": "code",
   "execution_count": 3,
   "id": "620ab5c0",
   "metadata": {},
   "outputs": [],
   "source": [
    "import matplotlib.pyplot as plt\n",
    "import numpy as np\n",
    "import scipy.optimize\n",
    "import torch"
   ]
  },
  {
   "cell_type": "code",
   "execution_count": 2,
   "id": "136aaf1d",
   "metadata": {},
   "outputs": [
    {
     "data": {
      "text/plain": "array([-1.88846401e-08])"
     },
     "execution_count": 2,
     "metadata": {},
     "output_type": "execute_result"
    }
   ],
   "source": [
    "f = lambda x: x ** 2\n",
    "x_0 = 2\n",
    "\n",
    "result = scipy.optimize.minimize(f, x_0)\n",
    "result.x"
   ]
  },
  {
   "cell_type": "markdown",
   "id": "92617ecc",
   "metadata": {},
   "source": [
    "### Implementing a random search\n",
    "\n",
    "A first possible algorithm is to sample a change for x and keep the best value.\n",
    "We iterate the following steps : \n",
    "- take a neighbor for x, sampling a random number 0.01.\n",
    "- evaluate these two possibilities\n",
    "- move to the best one\n",
    "\n",
    "Implement that with a for loop with 1000 iterations."
   ]
  },
  {
   "cell_type": "code",
   "execution_count": 3,
   "id": "245885fa",
   "metadata": {},
   "outputs": [
    {
     "name": "stdout",
     "output_type": "stream",
     "text": [
      "2.7001939109602546e-05\n"
     ]
    },
    {
     "data": {
      "text/plain": "[<matplotlib.lines.Line2D at 0x7f46675fd970>]"
     },
     "execution_count": 3,
     "metadata": {},
     "output_type": "execute_result"
    },
    {
     "data": {
      "text/plain": "<Figure size 432x288 with 1 Axes>",
      "image/png": "[encoded data removed]"
     },
     "metadata": {
      "needs_background": "light"
     },
     "output_type": "display_data"
    }
   ],
   "source": [
    "n_iter = 1000\n",
    "x = x_0\n",
    "all_results = list()\n",
    "\n",
    "\n",
    "def sample_around(x):\n",
    "    return x + np.random.normal(scale=0.01)\n",
    "\n",
    "\n",
    "for _ in range(n_iter):\n",
    "    sample = sample_around(x)\n",
    "    f_x, f_sample = f(x), f(sample)\n",
    "    #The best value is the sampled one\n",
    "    if f_sample < f_x:\n",
    "        x = sample\n",
    "        all_results.append(f_sample)\n",
    "    # The best one is the former one\n",
    "    else:\n",
    "        x = x\n",
    "        all_results.append(f_x)\n",
    "\n",
    "print(x)\n",
    "plt.plot(all_results)"
   ]
  },
  {
   "cell_type": "markdown",
   "id": "9642338b",
   "metadata": {},
   "source": [
    "### Implementing an exaustive search\n",
    "\n",
    "A first possible algorithm is to try all changes for x and keep the best value.\n",
    "We iterate the following steps : \n",
    "- try a smaller and a larger x value of 0.01.\n",
    "- evaluate these two possibilities\n",
    "- move to the best one\n",
    "\n",
    "Implement that with a for loop with 1000 iterations."
   ]
  },
  {
   "cell_type": "code",
   "execution_count": 4,
   "id": "4169998d",
   "metadata": {},
   "outputs": [
    {
     "name": "stdout",
     "output_type": "stream",
     "text": [
      "-1.6410484082740595e-15\n"
     ]
    },
    {
     "data": {
      "text/plain": "[<matplotlib.lines.Line2D at 0x7f4667567520>]"
     },
     "execution_count": 4,
     "metadata": {},
     "output_type": "execute_result"
    },
    {
     "data": {
      "text/plain": "<Figure size 432x288 with 1 Axes>",
      "image/png": "[encoded data removed]"
     },
     "metadata": {
      "needs_background": "light"
     },
     "output_type": "display_data"
    }
   ],
   "source": [
    "n_iter = 1000\n",
    "x = x_0\n",
    "all_results = list()\n",
    "\n",
    "for _ in range(n_iter):\n",
    "    small, large = x - 0.01, x + 0.01\n",
    "    f_small, f_large = f(small), f(large)\n",
    "    if f_small < f_large:\n",
    "        x = small\n",
    "        all_results.append(f_small)\n",
    "    else:\n",
    "        x = large\n",
    "        all_results.append(f_large)\n",
    "\n",
    "print(x)\n",
    "plt.plot(all_results)"
   ]
  },
  {
   "cell_type": "markdown",
   "id": "c32da8c7",
   "metadata": {},
   "source": [
    "### Implementing a gradient descent 'by hand'\n",
    "Now let us implement the gradient descent, by remembering that $\\frac{df}{dx} = 2x$\n",
    "\n",
    "We iterate the following steps : \n",
    "- compute the gradient value at x\n",
    "- Update x : $x \\leftarrow x - 0.01 \\frac{df}{dx}$\n",
    "\n",
    "Implement that with a for loop with 1000 iterations."
   ]
  },
  {
   "cell_type": "code",
   "execution_count": 5,
   "id": "aea5c807",
   "metadata": {},
   "outputs": [
    {
     "name": "stdout",
     "output_type": "stream",
     "text": [
      "3.3659347144319058e-09\n"
     ]
    },
    {
     "data": {
      "text/plain": "[<matplotlib.lines.Line2D at 0x7f46674c6e20>]"
     },
     "execution_count": 5,
     "metadata": {},
     "output_type": "execute_result"
    },
    {
     "data": {
      "text/plain": "<Figure size 432x288 with 1 Axes>",
      "image/png": "[encoded data removed]"
     },
     "metadata": {
      "needs_background": "light"
     },
     "output_type": "display_data"
    }
   ],
   "source": [
    "df = lambda x: 2 * x\n",
    "\n",
    "all_results = list()\n",
    "n_iter = 1000\n",
    "x = x_0\n",
    "for _ in range(n_iter):\n",
    "    dx = df(x)\n",
    "    x = x - 0.01 * dx\n",
    "    all_results.append(f(x))\n",
    "\n",
    "print(x)\n",
    "plt.plot(all_results)"
   ]
  },
  {
   "cell_type": "markdown",
   "id": "300333fe",
   "metadata": {},
   "source": [
    "### Implementing a gradient descent with automatic differentiation (by hand)\n",
    "\n",
    "We want to use the same algorithm but without knowing the formula of differentiation. \n",
    "We instead want to rely on Pytorch\n",
    "\n",
    "Implement the same method as before, with PyTorch."
   ]
  },
  {
   "cell_type": "code",
   "execution_count": 6,
   "id": "a250d695",
   "metadata": {},
   "outputs": [
    {
     "name": "stdout",
     "output_type": "stream",
     "text": [
      "3.3659321996282188e-09\n"
     ]
    },
    {
     "data": {
      "text/plain": "[<matplotlib.lines.Line2D at 0x7f46674b3bb0>]"
     },
     "execution_count": 6,
     "metadata": {},
     "output_type": "execute_result"
    },
    {
     "data": {
      "text/plain": "<Figure size 432x288 with 1 Axes>",
      "image/png": "[encoded data removed]"
     },
     "metadata": {
      "needs_background": "light"
     },
     "output_type": "display_data"
    }
   ],
   "source": [
    "all_results = list()\n",
    "n_iter = 1000\n",
    "x = torch.tensor(2.0, requires_grad=True)\n",
    "x.retain_grad()\n",
    "\n",
    "for i in range(n_iter):\n",
    "    f_x = x ** 2\n",
    "    f_x.backward()\n",
    "    x.data = x - 0.01 * x.grad.item()\n",
    "    x.grad = None\n",
    "    all_results.append(f_x)\n",
    "\n",
    "print(x.item())\n",
    "plt.plot(all_results)"
   ]
  },
  {
   "cell_type": "markdown",
   "id": "780a4898",
   "metadata": {},
   "source": [
    "### Implementing a gradient descent with automatic differentiation (the proper way)"
   ]
  },
  {
   "cell_type": "code",
   "execution_count": 7,
   "id": "acb2981a",
   "metadata": {},
   "outputs": [
    {
     "name": "stdout",
     "output_type": "stream",
     "text": [
      "3.365942857769255e-09\n"
     ]
    },
    {
     "data": {
      "text/plain": "[<matplotlib.lines.Line2D at 0x7f4666c246d0>]"
     },
     "execution_count": 7,
     "metadata": {},
     "output_type": "execute_result"
    },
    {
     "data": {
      "text/plain": "<Figure size 432x288 with 1 Axes>",
      "image/png": "[encoded data removed]"
     },
     "metadata": {
      "needs_background": "light"
     },
     "output_type": "display_data"
    }
   ],
   "source": [
    "all_results = list()\n",
    "n_iter = 1000\n",
    "x = torch.tensor(2.0, requires_grad=True)\n",
    "opt = torch.optim.SGD([x], lr=0.01, momentum=0)\n",
    "\n",
    "for i in range(n_iter):\n",
    "    f_x = f(x)\n",
    "    f_x.backward()\n",
    "    opt.step()\n",
    "    opt.zero_grad()\n",
    "    all_results.append(f_x)\n",
    "\n",
    "print(x.item())\n",
    "plt.plot(all_results)"
   ]
  },
  {
   "cell_type": "markdown",
   "id": "c0583398",
   "metadata": {},
   "source": [
    "## Bigger input space\n",
    "\n",
    "Let us now look at a more complicated input space, the function takes as input five numbers and returns :\n",
    "$f_2(x_1, x_2, x_3, x_4, x_5) = (x_1 + x_2 + x_3 + x_4 + x_5)^2$\n",
    "\n",
    "Now it is more costly to find the right direction randomly. Try the random algorithm on this new function."
   ]
  },
  {
   "cell_type": "code",
   "execution_count": 1,
   "id": "d5814b54",
   "metadata": {},
   "outputs": [
    {
     "data": {
      "text/plain": "225"
     },
     "execution_count": 1,
     "metadata": {},
     "output_type": "execute_result"
    }
   ],
   "source": [
    "f_2 = lambda x: (x[0] + x[1] + x[2] + x[3] + x[4]) ** 2\n",
    "x_1 = (1, 2, 3, 4, 5)\n",
    "f_2(x_1)"
   ]
  },
  {
   "cell_type": "code",
   "execution_count": 4,
   "id": "18e8b9bf",
   "metadata": {},
   "outputs": [
    {
     "name": "stdout",
     "output_type": "stream",
     "text": [
      "[-0.25819829  0.23004616  1.29317208  2.23559015  3.07804989]\n"
     ]
    },
    {
     "data": {
      "text/plain": "[<matplotlib.lines.Line2D at 0x7f93409eef10>]"
     },
     "execution_count": 4,
     "metadata": {},
     "output_type": "execute_result"
    },
    {
     "data": {
      "text/plain": "<Figure size 432x288 with 1 Axes>",
      "image/png": "[encoded data removed]"
     },
     "metadata": {
      "needs_background": "light"
     },
     "output_type": "display_data"
    }
   ],
   "source": [
    "n_iter = 1000\n",
    "x = x_1\n",
    "all_results = list()\n",
    "\n",
    "\n",
    "def sample_around(x):\n",
    "    return x + np.random.normal(size=5, scale=0.01)\n",
    "\n",
    "\n",
    "for _ in range(n_iter):\n",
    "    sample = sample_around(x)\n",
    "    f_x, f_sample = f_2(x), f_2(sample)\n",
    "    #The best value is the sampled one\n",
    "    if f_sample < f_x:\n",
    "        x = sample\n",
    "        all_results.append(f_sample)\n",
    "    # The best one is the former one\n",
    "    else:\n",
    "        x = x\n",
    "        all_results.append(f_x)\n",
    "\n",
    "print(x)\n",
    "plt.plot(all_results)"
   ]
  },
  {
   "cell_type": "markdown",
   "id": "c825f1a4",
   "metadata": {},
   "source": [
    "Now let us try the gradient approach."
   ]
  },
  {
   "cell_type": "code",
   "execution_count": 5,
   "id": "99f7c475",
   "metadata": {},
   "outputs": [
    {
     "name": "stdout",
     "output_type": "stream",
     "text": [
      "tensor([-2.0000e+00, -1.0000e+00, -2.0061e-15,  1.0000e+00,  2.0000e+00],\n",
      "       dtype=torch.float64)\n"
     ]
    },
    {
     "data": {
      "text/plain": "[<matplotlib.lines.Line2D at 0x7f93400e5280>]"
     },
     "execution_count": 5,
     "metadata": {},
     "output_type": "execute_result"
    },
    {
     "data": {
      "text/plain": "<Figure size 432x288 with 1 Axes>",
      "image/png": "[encoded data removed]"
     },
     "metadata": {
      "needs_background": "light"
     },
     "output_type": "display_data"
    }
   ],
   "source": [
    "all_results = list()\n",
    "n_iter = 1000\n",
    "x = torch.tensor(x_1, requires_grad=True, dtype=float)\n",
    "opt = torch.optim.SGD([x], lr=0.01, momentum=0)\n",
    "\n",
    "for i in range(n_iter):\n",
    "    f_x = f_2(x)\n",
    "    f_x.backward()\n",
    "    opt.step()\n",
    "    opt.zero_grad()\n",
    "    all_results.append(f_x)\n",
    "\n",
    "print(x.data)\n",
    "plt.plot(all_results)"
   ]
  },
  {
   "cell_type": "markdown",
   "id": "e5881daf",
   "metadata": {},
   "source": [
    "## Actual machine learning examples\n",
    "\n",
    "Now instead of minimizing random functions, let us minimize the error of a linear model !\n",
    "\n",
    "We will simply use the example from the first class. Let us generate the data once again and plot it."
   ]
  },
  {
   "cell_type": "code",
   "execution_count": 11,
   "id": "b2a4d094",
   "metadata": {},
   "outputs": [
    {
     "data": {
      "text/plain": "<Figure size 432x288 with 1 Axes>",
      "image/png": "[encoded data removed]"
     },
     "metadata": {
      "needs_background": "light"
     },
     "output_type": "display_data"
    }
   ],
   "source": [
    "import numpy as np\n",
    "\n",
    "np.random.seed(20)\n",
    "\n",
    "\n",
    "def base_function():\n",
    "    f = lambda x: 1.3 * x ** 3 - 3 * x ** 2 + 3.6 * x + 6.9\n",
    "    return f\n",
    "\n",
    "\n",
    "low, high = -1, 3\n",
    "n_points = 100\n",
    "\n",
    "# Get the values\n",
    "bfunc = base_function()\n",
    "xs = np.random.uniform(low, high, n_points)\n",
    "ys_noise = np.random.normal(size=len(xs))\n",
    "sample_ys = bfunc(xs)\n",
    "noisy_sample_ys = sample_ys + ys_noise\n",
    "\n",
    "# Plot the hidden function\n",
    "lsp = np.linspace(low, high)[:, None]\n",
    "true_ys = bfunc(lsp)\n",
    "plt.plot(lsp, true_ys, linestyle='dashed')\n",
    "\n",
    "# Plot the samples\n",
    "plt.scatter(xs, noisy_sample_ys)\n",
    "plt.xlabel('x')\n",
    "plt.ylabel('y')\n",
    "plt.show()"
   ]
  },
  {
   "cell_type": "markdown",
   "id": "87eed3d5",
   "metadata": {},
   "source": [
    "### Gradient descent using torch.\n",
    "First create a torch version of these objects "
   ]
  },
  {
   "cell_type": "code",
   "execution_count": 12,
   "id": "8d6b7611",
   "metadata": {},
   "outputs": [],
   "source": [
    "torch_noisy_sample_ys = torch.from_numpy(noisy_sample_ys)\n",
    "torch_xs = torch.from_numpy(xs)\n",
    "torch_lsp = torch.from_numpy(lsp)"
   ]
  },
  {
   "cell_type": "markdown",
   "id": "21e64f24",
   "metadata": {},
   "source": [
    "Let us try to fit a linear model by hand, instead of simply relying on scikit-learn !\n",
    "\n",
    "The model of a linear regression is : $f_\\theta (x) = (\\theta_0 x + \\theta_1)$\n",
    "\n",
    "Careful ! We do not want to minimize the function of x itself. \n",
    "\n",
    "We want to minimise the errors we make, also called the loss function. We will do this by adjusting the parameters $\\theta$ of the function, starting from an arbitrary value of (1,1). This loss function is the sum of the square errors at each point : \n",
    "\n",
    "$$ \\min_{\\theta}\\mathcal{L} (\\theta) = 1/N\\sum_i (y_i - f_{\\theta} (x_i))^ 2 \\\\\n",
    "= 1/N\\sum_i (y_i - (\\theta_0 x_i + \\theta_1))^ 2 $$"
   ]
  },
  {
   "cell_type": "code",
   "execution_count": 13,
   "id": "214cfa3f",
   "metadata": {},
   "outputs": [
    {
     "data": {
      "text/plain": "tensor(76.6989, dtype=torch.float64, grad_fn=<MeanBackward0>)"
     },
     "execution_count": 13,
     "metadata": {},
     "output_type": "execute_result"
    }
   ],
   "source": [
    "f_theta = lambda x, theta: theta[0] * x + theta[1]\n",
    "# loss_function = lambda theta : torch.mean((torch_noisy_sample_ys - theta[0] * torch_xs + theta[1])**2)\n",
    "loss_function = lambda theta: torch.mean((torch_noisy_sample_ys - f_theta(torch_xs, theta)) ** 2)\n",
    "\n",
    "theta_0 = torch.tensor((1., 1.), requires_grad=True)\n",
    "loss_function(theta_0)"
   ]
  },
  {
   "cell_type": "code",
   "execution_count": 14,
   "id": "453961fb",
   "metadata": {},
   "outputs": [
    {
     "name": "stdout",
     "output_type": "stream",
     "text": [
      "tensor([4.2252, 5.3987])\n"
     ]
    },
    {
     "data": {
      "text/plain": "[<matplotlib.lines.Line2D at 0x7f4667542190>]"
     },
     "execution_count": 14,
     "metadata": {},
     "output_type": "execute_result"
    },
    {
     "data": {
      "text/plain": "<Figure size 432x288 with 1 Axes>",
      "image/png": "[encoded data removed]"
     },
     "metadata": {
      "needs_background": "light"
     },
     "output_type": "display_data"
    }
   ],
   "source": [
    "all_results = list()\n",
    "n_iter = 1000\n",
    "opt = torch.optim.SGD([theta_0], lr=0.01, momentum=0.0)\n",
    "\n",
    "for i in range(n_iter):\n",
    "    loss_value = loss_function(theta_0)\n",
    "    loss_value.backward()\n",
    "    opt.step()\n",
    "    opt.zero_grad()\n",
    "    all_results.append(loss_value)\n",
    "\n",
    "print(theta_0.data)\n",
    "plt.plot(all_results)"
   ]
  },
  {
   "cell_type": "markdown",
   "id": "08a2dbd2",
   "metadata": {},
   "source": [
    "We have values for the parameters now. \n",
    "Let us look at what they look like.\n",
    "\n",
    "Use the theta_function on the linspace to plot your model."
   ]
  },
  {
   "cell_type": "code",
   "execution_count": 15,
   "id": "0e4b641f",
   "metadata": {},
   "outputs": [
    {
     "data": {
      "text/plain": "<Figure size 432x288 with 1 Axes>",
      "image/png": "[encoded data removed]"
     },
     "metadata": {
      "needs_background": "light"
     },
     "output_type": "display_data"
    }
   ],
   "source": [
    "predicted_ys = f_theta(torch_lsp, theta_0).detach().numpy()\n",
    "\n",
    "plt.plot(lsp, true_ys, linestyle='dashed')\n",
    "plt.plot(lsp, predicted_ys)\n",
    "\n",
    "# Plot the samples\n",
    "plt.scatter(xs, noisy_sample_ys)\n",
    "plt.xlabel('x')\n",
    "plt.ylabel('y')\n",
    "plt.show()"
   ]
  },
  {
   "cell_type": "code",
   "execution_count": 15,
   "id": "4119f1d9",
   "metadata": {},
   "outputs": [],
   "source": []
  }
 ],
 "metadata": {
  "kernelspec": {
   "display_name": "Python 3 (ipykernel)",
   "language": "python",
   "name": "python3"
  },
  "language_info": {
   "codemirror_mode": {
    "name": "ipython",
    "version": 3
   },
   "file_extension": ".py",
   "mimetype": "text/x-python",
   "name": "python",
   "nbconvert_exporter": "python",
   "pygments_lexer": "ipython3",
   "version": "3.8.5"
  }
 },
 "nbformat": 4,
 "nbformat_minor": 5
}