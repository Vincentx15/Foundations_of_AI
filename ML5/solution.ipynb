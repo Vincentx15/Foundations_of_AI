{
 "cells": [
  {
   "cell_type": "markdown",
   "id": "bc77ac82",
   "metadata": {},
   "source": [
    "# Machine Learning 5: Real life example\n",
    "\n",
    "Our dataset is from the National Institute of Diabetes and Digestive and Kidney Diseases. The objective of the dataset is to diagnostically **predict whether or not a patient has diabetes**, based on certain diagnostic measurements included in the dataset.\n",
    "\n",
    "The datasets consists of several medical predictor variables and one target variable, **Outcome**. Predictor variables includes the number of pregnancies the patient has had, their BMI, insulin level, age, and so on.\n",
    "\n",
    "Can you build a machine learning model to accurately predict whether or not the patients in the dataset have diabetes or not?\n",
    "\n",
    "The data is relatively clean, we won't discuss pre-processing in detail here, besides the very basics. "
   ]
  },
  {
   "cell_type": "markdown",
   "id": "9398c1c4",
   "metadata": {},
   "source": [
    "First, let's **import the libraries** we will need. Then, we need to **read the csv file**."
   ]
  },
  {
   "cell_type": "code",
   "execution_count": 1,
   "id": "c0b2a909",
   "metadata": {},
   "outputs": [],
   "source": [
    "%matplotlib inline\n",
    "import pandas as pd\n",
    "import numpy as np\n",
    "import matplotlib.pyplot as plt\n",
    "import seaborn as sns\n",
    "\n",
    "diabetes = pd.read_csv('diabetes.csv')"
   ]
  },
  {
   "cell_type": "markdown",
   "id": "837efdb1",
   "metadata": {},
   "source": [
    "Let's **print the columns and the few top values** from the dataset, to see what we're working with."
   ]
  },
  {
   "cell_type": "code",
   "execution_count": 2,
   "id": "4954ca83",
   "metadata": {},
   "outputs": [
    {
     "data": {
      "text/plain": "Index(['Pregnancies', 'Glucose', 'BloodPressure', 'SkinThickness', 'Insulin',\n       'BMI', 'DiabetesPedigreeFunction', 'Age', 'Outcome'],\n      dtype='object')"
     },
     "execution_count": 2,
     "metadata": {},
     "output_type": "execute_result"
    }
   ],
   "source": [
    "diabetes.columns "
   ]
  },
  {
   "cell_type": "code",
   "execution_count": 3,
   "id": "6822216f",
   "metadata": {},
   "outputs": [
    {
     "data": {
      "text/plain": "   Pregnancies  Glucose  BloodPressure  SkinThickness  Insulin   BMI  \\\n0            6      148             72             35        0  33.6   \n1            1       85             66             29        0  26.6   \n2            8      183             64              0        0  23.3   \n3            1       89             66             23       94  28.1   \n4            0      137             40             35      168  43.1   \n\n   DiabetesPedigreeFunction  Age  Outcome  \n0                     0.627   50        1  \n1                     0.351   31        0  \n2                     0.672   32        1  \n3                     0.167   21        0  \n4                     2.288   33        1  ",
      "text/html": "<div>\n<style scoped>\n    .dataframe tbody tr th:only-of-type {\n        vertical-align: middle;\n    }\n\n    .dataframe tbody tr th {\n        vertical-align: top;\n    }\n\n    .dataframe thead th {\n        text-align: right;\n    }\n</style>\n<table border=\"1\" class=\"dataframe\">\n  <thead>\n    <tr style=\"text-align: right;\">\n      <th></th>\n      <th>Pregnancies</th>\n      <th>Glucose</th>\n      <th>BloodPressure</th>\n      <th>SkinThickness</th>\n      <th>Insulin</th>\n      <th>BMI</th>\n      <th>DiabetesPedigreeFunction</th>\n      <th>Age</th>\n      <th>Outcome</th>\n    </tr>\n  </thead>\n  <tbody>\n    <tr>\n      <th>0</th>\n      <td>6</td>\n      <td>148</td>\n      <td>72</td>\n      <td>35</td>\n      <td>0</td>\n      <td>33.6</td>\n      <td>0.627</td>\n      <td>50</td>\n      <td>1</td>\n    </tr>\n    <tr>\n      <th>1</th>\n      <td>1</td>\n      <td>85</td>\n      <td>66</td>\n      <td>29</td>\n      <td>0</td>\n      <td>26.6</td>\n      <td>0.351</td>\n      <td>31</td>\n      <td>0</td>\n    </tr>\n    <tr>\n      <th>2</th>\n      <td>8</td>\n      <td>183</td>\n      <td>64</td>\n      <td>0</td>\n      <td>0</td>\n      <td>23.3</td>\n      <td>0.672</td>\n      <td>32</td>\n      <td>1</td>\n    </tr>\n    <tr>\n      <th>3</th>\n      <td>1</td>\n      <td>89</td>\n      <td>66</td>\n      <td>23</td>\n      <td>94</td>\n      <td>28.1</td>\n      <td>0.167</td>\n      <td>21</td>\n      <td>0</td>\n    </tr>\n    <tr>\n      <th>4</th>\n      <td>0</td>\n      <td>137</td>\n      <td>40</td>\n      <td>35</td>\n      <td>168</td>\n      <td>43.1</td>\n      <td>2.288</td>\n      <td>33</td>\n      <td>1</td>\n    </tr>\n  </tbody>\n</table>\n</div>"
     },
     "execution_count": 3,
     "metadata": {},
     "output_type": "execute_result"
    }
   ],
   "source": [
    "diabetes.head()"
   ]
  },
  {
   "cell_type": "markdown",
   "id": "b0cb6d7c",
   "metadata": {},
   "source": [
    "Let's take a look at the Outcome variable that we want to predict. **How many people from our dataset have diabetes?**"
   ]
  },
  {
   "cell_type": "code",
   "execution_count": 4,
   "id": "bb6dc990",
   "metadata": {},
   "outputs": [
    {
     "data": {
      "text/plain": "Outcome\n0    500\n1    268\ndtype: int64"
     },
     "execution_count": 4,
     "metadata": {},
     "output_type": "execute_result"
    }
   ],
   "source": [
    "diabetes.groupby('Outcome').size()"
   ]
  },
  {
   "cell_type": "markdown",
   "id": "a857988a",
   "metadata": {},
   "source": [
    "Do we have **missing values** in any columns?"
   ]
  },
  {
   "cell_type": "code",
   "execution_count": 5,
   "id": "752aaaab",
   "metadata": {},
   "outputs": [
    {
     "data": {
      "text/plain": "Pregnancies                 0\nGlucose                     0\nBloodPressure               0\nSkinThickness               0\nInsulin                     0\nBMI                         0\nDiabetesPedigreeFunction    0\nAge                         0\nOutcome                     0\ndtype: int64"
     },
     "execution_count": 5,
     "metadata": {},
     "output_type": "execute_result"
    }
   ],
   "source": [
    "diabetes.isnull().sum()"
   ]
  },
  {
   "cell_type": "markdown",
   "id": "f92b1532",
   "metadata": {},
   "source": [
    "Let's look at the **distribution** of each feature to see if we find anything weird."
   ]
  },
  {
   "cell_type": "code",
   "execution_count": 6,
   "id": "3217aa12",
   "metadata": {},
   "outputs": [
    {
     "data": {
      "text/plain": "array([[<AxesSubplot:title={'center':'Pregnancies'}>,\n        <AxesSubplot:title={'center':'Glucose'}>,\n        <AxesSubplot:title={'center':'BloodPressure'}>],\n       [<AxesSubplot:title={'center':'SkinThickness'}>,\n        <AxesSubplot:title={'center':'Insulin'}>,\n        <AxesSubplot:title={'center':'BMI'}>],\n       [<AxesSubplot:title={'center':'DiabetesPedigreeFunction'}>,\n        <AxesSubplot:title={'center':'Age'}>,\n        <AxesSubplot:title={'center':'Outcome'}>]], dtype=object)"
     },
     "execution_count": 6,
     "metadata": {},
     "output_type": "execute_result"
    },
    {
     "data": {
      "text/plain": "<Figure size 648x648 with 9 Axes>",
      "image/png": "[encoded data removed]"
     },
     "metadata": {
      "needs_background": "light"
     },
     "output_type": "display_data"
    }
   ],
   "source": [
    "diabetes.hist(figsize=(9, 9))"
   ]
  },
  {
   "cell_type": "markdown",
   "id": "92923ac5",
   "metadata": {},
   "source": [
    "From the histagram we can see `0` values for *Blood Pressure, BMI, Skin Fold Thikness, Insulin,* and *Blood Glucose*. Those values aren't realistic, and are probably in fact hidden **missing values**. \n",
    "\n",
    "For *Blood Pressure, BMI,* and *Glucose*, only a **few values** are missing. We can safely **drop** those rows."
   ]
  },
  {
   "cell_type": "code",
   "execution_count": 7,
   "id": "f1f696b8",
   "metadata": {},
   "outputs": [],
   "source": [
    "diabetes_mod = diabetes[(diabetes.BloodPressure != 0) & (diabetes.BMI != 0) & (diabetes.Glucose != 0)]"
   ]
  },
  {
   "cell_type": "markdown",
   "id": "97da836a",
   "metadata": {},
   "source": [
    "It seems like there are a lot of `0` values in the *Insulin* column. Let's check how many."
   ]
  },
  {
   "cell_type": "code",
   "execution_count": 8,
   "id": "b26b5aa7",
   "metadata": {},
   "outputs": [
    {
     "data": {
      "text/plain": "374"
     },
     "execution_count": 8,
     "metadata": {},
     "output_type": "execute_result"
    }
   ],
   "source": [
    "diabetes[diabetes.Insulin == 0].shape[0]"
   ]
  },
  {
   "cell_type": "markdown",
   "id": "8216aec2",
   "metadata": {},
   "source": [
    "We will **lose a lot of information** if we remove all rows where Insulin value is zero. It seems like a valuable variable to drop it completely. Let's keep it for now and see how it goes."
   ]
  },
  {
   "cell_type": "markdown",
   "id": "3cd74030",
   "metadata": {},
   "source": [
    "Now that the data is ready we can **train our model**. Let's try a model called Logistic Regression. \n",
    "\n",
    "First, we will create `X` variable with the **features**, and `y` variable with the **outcome**. We will need to split the data into **train and test sets**. There is a function `train_test_split` for this. Please google it to find scikit documentation with the example of usage. We will use **accuracy** to get the estimates. It's a good choice because our outcome variable is rather balanced. "
   ]
  },
  {
   "cell_type": "code",
   "execution_count": 9,
   "id": "3fbc8efd",
   "metadata": {},
   "outputs": [],
   "source": [
    "from sklearn.linear_model import LogisticRegression\n",
    "from sklearn.model_selection import train_test_split\n",
    "from sklearn.metrics import accuracy_score"
   ]
  },
  {
   "cell_type": "code",
   "execution_count": 10,
   "id": "417b78f4",
   "metadata": {},
   "outputs": [],
   "source": [
    "feature_names = ['Pregnancies', 'Glucose', 'BloodPressure', 'SkinThickness', 'Insulin', 'BMI', 'DiabetesPedigreeFunction', 'Age']\n",
    "\n",
    "X = diabetes_mod[feature_names]\n",
    "y = diabetes_mod.Outcome\n",
    "\n",
    "X_train, X_test, y_train, y_test = train_test_split(X, y, random_state=0)"
   ]
  },
  {
   "cell_type": "markdown",
   "id": "9f0f65f3",
   "metadata": {},
   "source": [
    "Now the fun part! \n",
    "To get our predictions we need to:\n",
    "1. **Initialize** the model\n",
    "2. **Fit** the model (using the input feature vectors `X` and the outcome vector `y` of the **training set**)\n",
    "3. Use the trained model to **predict** outcome values from the **training set**, and then the **test set** (here, we only provide the input features `X`, the model will give us the predicted `y` values)\n",
    "4. **Compare** the values the model predicted with the actual outcome values. We will use the accuracy_score function. Please google how to use it. "
   ]
  },
  {
   "cell_type": "code",
   "execution_count": 11,
   "id": "a5589554",
   "metadata": {},
   "outputs": [
    {
     "name": "stderr",
     "output_type": "stream",
     "text": [
      "/home/vmallet/anaconda3/envs/dpp/lib/python3.8/site-packages/sklearn/linear_model/_logistic.py:762: ConvergenceWarning: lbfgs failed to converge (status=1):\n",
      "STOP: TOTAL NO. of ITERATIONS REACHED LIMIT.\n",
      "\n",
      "Increase the number of iterations (max_iter) or scale the data as shown in:\n",
      "    https://scikit-learn.org/stable/modules/preprocessing.html\n",
      "Please also refer to the documentation for alternative solver options:\n",
      "    https://scikit-learn.org/stable/modules/linear_model.html#logistic-regression\n",
      "  n_iter_i = _check_optimize_result(\n"
     ]
    },
    {
     "data": {
      "text/plain": "LogisticRegression()"
     },
     "execution_count": 11,
     "metadata": {},
     "output_type": "execute_result"
    }
   ],
   "source": [
    "model = LogisticRegression()\n",
    "model.fit(X_train, y_train)"
   ]
  },
  {
   "cell_type": "code",
   "execution_count": 12,
   "id": "a27af7b2",
   "metadata": {},
   "outputs": [
    {
     "data": {
      "text/plain": "0.7771639042357275"
     },
     "execution_count": 12,
     "metadata": {},
     "output_type": "execute_result"
    }
   ],
   "source": [
    "y_pred_train = model.predict(X_train)\n",
    "accuracy_score(y_train, y_pred_train)"
   ]
  },
  {
   "cell_type": "code",
   "execution_count": 13,
   "id": "394a8912",
   "metadata": {},
   "outputs": [
    {
     "data": {
      "text/plain": "0.7513812154696132"
     },
     "execution_count": 13,
     "metadata": {},
     "output_type": "execute_result"
    }
   ],
   "source": [
    "y_pred_test = model.predict(X_test)\n",
    "accuracy_score(y_test, y_pred_test)"
   ]
  },
  {
   "cell_type": "markdown",
   "id": "578abd56",
   "metadata": {},
   "source": [
    "## Congratulations on your first model! \n",
    "The accuracy on the test set is almost as good as the accuracy on the training set. That means that the model doesn't **overfit** to the training set.\n",
    "Let's try another model, that is famous for overfitting if not tuned well."
   ]
  },
  {
   "cell_type": "code",
   "execution_count": 14,
   "id": "aa88c408",
   "metadata": {},
   "outputs": [
    {
     "data": {
      "text/plain": "DecisionTreeClassifier()"
     },
     "execution_count": 14,
     "metadata": {},
     "output_type": "execute_result"
    }
   ],
   "source": [
    "from sklearn.tree import DecisionTreeClassifier\n",
    "tree = DecisionTreeClassifier()\n",
    "tree.fit(X_train, y_train)"
   ]
  },
  {
   "cell_type": "code",
   "execution_count": 15,
   "id": "d0e60a8e",
   "metadata": {},
   "outputs": [
    {
     "data": {
      "text/plain": "1.0"
     },
     "execution_count": 15,
     "metadata": {},
     "output_type": "execute_result"
    }
   ],
   "source": [
    "y_pred_train = tree.predict(X_train)\n",
    "accuracy_score(y_train, y_pred_train)"
   ]
  },
  {
   "cell_type": "code",
   "execution_count": 16,
   "id": "71cd5b01",
   "metadata": {},
   "outputs": [
    {
     "data": {
      "text/plain": "0.6961325966850829"
     },
     "execution_count": 16,
     "metadata": {},
     "output_type": "execute_result"
    }
   ],
   "source": [
    "y_pred_test = tree.predict(X_test)\n",
    "accuracy_score(y_test, y_pred_test)"
   ]
  },
  {
   "cell_type": "markdown",
   "id": "bfe268b7",
   "metadata": {},
   "source": [
    "We can see that the model **fits the training data perfectly** (which is already suspicious), and performs much worse on the test set. One of the way to prevent overfitting is to force the model to be \"**simpler**\". For the Decision Tree algorithm, one of the indication of its complexity is its \"depth\". Let's try limiting it to `3`."
   ]
  },
  {
   "cell_type": "code",
   "execution_count": 17,
   "id": "45fd8fc7",
   "metadata": {},
   "outputs": [
    {
     "data": {
      "text/plain": "DecisionTreeClassifier(max_depth=3)"
     },
     "execution_count": 17,
     "metadata": {},
     "output_type": "execute_result"
    }
   ],
   "source": [
    "tree = DecisionTreeClassifier(max_depth=3)\n",
    "tree.fit(X_train, y_train)"
   ]
  },
  {
   "cell_type": "code",
   "execution_count": 18,
   "id": "cefdf3bf",
   "metadata": {},
   "outputs": [
    {
     "data": {
      "text/plain": "0.7661141804788214"
     },
     "execution_count": 18,
     "metadata": {},
     "output_type": "execute_result"
    }
   ],
   "source": [
    "y_pred_train = tree.predict(X_train)\n",
    "accuracy_score(y_train, y_pred_train)"
   ]
  },
  {
   "cell_type": "code",
   "execution_count": 19,
   "id": "dec506d6",
   "metadata": {},
   "outputs": [
    {
     "data": {
      "text/plain": "0.7458563535911602"
     },
     "execution_count": 19,
     "metadata": {},
     "output_type": "execute_result"
    }
   ],
   "source": [
    "y_pred_test = tree.predict(X_test)\n",
    "accuracy_score(y_test, y_pred_test)"
   ]
  },
  {
   "cell_type": "markdown",
   "id": "5df95232",
   "metadata": {},
   "source": [
    "Now we can see that the accuracy **decreased** for the training set, but **increased** for the test set. It means our model **generalizes** better, and will be able to predict unseen cases. "
   ]
  }
 ],
 "metadata": {
  "kernelspec": {
   "display_name": "Python 3 (ipykernel)",
   "language": "python",
   "name": "python3"
  },
  "language_info": {
   "codemirror_mode": {
    "name": "ipython",
    "version": 3
   },
   "file_extension": ".py",
   "mimetype": "text/x-python",
   "name": "python",
   "nbconvert_exporter": "python",
   "pygments_lexer": "ipython3",
   "version": "3.8.2"
  }
 },
 "nbformat": 4,
 "nbformat_minor": 5
}